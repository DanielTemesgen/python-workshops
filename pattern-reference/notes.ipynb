{
 "metadata": {
  "orig_nbformat": 4,
  "kernelspec": {
   "name": "python3",
   "display_name": "Python 3 (ipykernel)",
   "language": "python"
  },
  "language_info": {
   "name": "python",
   "version": "3.7.10",
   "mimetype": "text/x-python",
   "codemirror_mode": {
    "name": "ipython",
    "version": 3
   },
   "pygments_lexer": "ipython3",
   "nbconvert_exporter": "python",
   "file_extension": ".py"
  },
  "toc-showmarkdowntxt": false
 },
 "nbformat_minor": 4,
 "nbformat": 4,
 "cells": [
  {
   "cell_type": "markdown",
   "source": [
    "## Property"
   ],
   "metadata": {}
  },
  {
   "cell_type": "markdown",
   "source": [
    "Setting `self.name` in the `__init__` allows us to exploit the setter during construction."
   ],
   "metadata": {}
  },
  {
   "cell_type": "code",
   "source": [
    "class Cat:\n",
    "    def __init__(self, name):\n",
    "        self.name = name\n",
    "    \n",
    "    @property\n",
    "    def name(self):\n",
    "        print(\"Getting name...\")\n",
    "        # we use _name here\n",
    "        return self._name\n",
    "    \n",
    "    @name.setter\n",
    "    def name(self, value):\n",
    "        print(\"Setting name...\")\n",
    "        # we use _name here\n",
    "        self._name = value"
   ],
   "metadata": {
    "trusted": true
   },
   "execution_count": 33,
   "outputs": []
  },
  {
   "cell_type": "markdown",
   "source": [
    "The setter is used during construction."
   ],
   "metadata": {}
  },
  {
   "cell_type": "code",
   "source": [
    "test = Cat('Top')"
   ],
   "metadata": {
    "trusted": true
   },
   "execution_count": 34,
   "outputs": [
    {
     "name": "stdout",
     "text": "Setting name...\n",
     "output_type": "stream"
    }
   ]
  },
  {
   "cell_type": "code",
   "source": [
    "test.name"
   ],
   "metadata": {
    "trusted": true
   },
   "execution_count": 35,
   "outputs": [
    {
     "name": "stdout",
     "text": "Getting name...\n",
     "output_type": "stream"
    },
    {
     "execution_count": 35,
     "output_type": "execute_result",
     "data": {
      "text/plain": "'Top'"
     },
     "metadata": {}
    }
   ]
  },
  {
   "cell_type": "code",
   "source": [
    "test.name = \"Simba\""
   ],
   "metadata": {
    "trusted": true
   },
   "execution_count": 36,
   "outputs": [
    {
     "name": "stdout",
     "text": "Setting name...\n",
     "output_type": "stream"
    }
   ]
  },
  {
   "cell_type": "code",
   "source": [
    "test.name"
   ],
   "metadata": {
    "trusted": true
   },
   "execution_count": 37,
   "outputs": [
    {
     "name": "stdout",
     "text": "Getting name...\n",
     "output_type": "stream"
    },
    {
     "execution_count": 37,
     "output_type": "execute_result",
     "data": {
      "text/plain": "'Simba'"
     },
     "metadata": {}
    }
   ]
  },
  {
   "cell_type": "markdown",
   "source": [
    "Can still set `_name` but this isn't recommended."
   ],
   "metadata": {}
  },
  {
   "cell_type": "code",
   "source": [
    "test._name = 'Bad Cat'\n",
    "test._name"
   ],
   "metadata": {
    "trusted": true
   },
   "execution_count": 38,
   "outputs": [
    {
     "execution_count": 38,
     "output_type": "execute_result",
     "data": {
      "text/plain": "'Bad Cat'"
     },
     "metadata": {}
    }
   ]
  },
  {
   "cell_type": "code",
   "source": [
    "test.name"
   ],
   "metadata": {
    "trusted": true
   },
   "execution_count": 39,
   "outputs": [
    {
     "name": "stdout",
     "text": "Getting name...\n",
     "output_type": "stream"
    },
    {
     "execution_count": 39,
     "output_type": "execute_result",
     "data": {
      "text/plain": "'Bad Cat'"
     },
     "metadata": {}
    }
   ]
  },
  {
   "cell_type": "markdown",
   "source": [
    "## OOP"
   ],
   "metadata": {}
  },
  {
   "cell_type": "markdown",
   "source": [
    "This shows:\n",
    "* Abstract method.\n",
    "    * This leaves a gap that the subclass **must** fill.\n",
    "* Read-only property pattern.\n",
    "    * No setter property has been defined, so more immutability.\n",
    "    * Caveat: true immutability is not possible in Python.\n"
   ],
   "metadata": {}
  },
  {
   "cell_type": "code",
   "source": [
    "from abc import abstractmethod, ABC\n",
    "from textwrap import dedent\n",
    "class Animal(ABC):\n",
    "    def __init__(self, name):\n",
    "        self.name = name\n",
    "    \n",
    "    @property\n",
    "    @abstractmethod\n",
    "    def pet(self) -> bool:\n",
    "        print('Getting pet...')\n",
    "        pass\n",
    "    \n",
    "    # @final from  Python 3.7 \n",
    "    def info(self):\n",
    "        info_string = f\"\"\"\n",
    "        Name: {self.name}\n",
    "        Pet status: {self.pet}\n",
    "        \"\"\"\n",
    "        print(dedent(info_string))\n",
    "        "
   ],
   "metadata": {
    "trusted": true
   },
   "execution_count": 40,
   "outputs": []
  },
  {
   "cell_type": "code",
   "source": [
    "class Dog(Animal):\n",
    "    def __init__(self, name):\n",
    "        super().__init__(name)\n",
    "    \n",
    "    # notice: the subclass implementation must also be a property\n",
    "    @property\n",
    "    def pet(self):\n",
    "        return True"
   ],
   "metadata": {
    "trusted": true
   },
   "execution_count": 41,
   "outputs": []
  },
  {
   "cell_type": "code",
   "source": [
    "clifford = Dog(\"Clifford\")"
   ],
   "metadata": {
    "trusted": true
   },
   "execution_count": 42,
   "outputs": []
  },
  {
   "cell_type": "code",
   "source": [
    "clifford.info()"
   ],
   "metadata": {
    "trusted": true
   },
   "execution_count": 43,
   "outputs": [
    {
     "name": "stdout",
     "text": "\nName: Clifford\nPet status: True\n\n",
     "output_type": "stream"
    }
   ]
  },
  {
   "cell_type": "markdown",
   "source": [
    "The `pet` attribute is read-only."
   ],
   "metadata": {}
  },
  {
   "cell_type": "code",
   "source": [
    "clifford.pet = False"
   ],
   "metadata": {
    "trusted": true
   },
   "execution_count": 44,
   "outputs": [
    {
     "traceback": [
      "\u001B[0;31m---------------------------------------------------------------------------\u001B[0m",
      "\u001B[0;31mAttributeError\u001B[0m                            Traceback (most recent call last)",
      "\u001B[0;32m/tmp/ipykernel_100/2938982037.py\u001B[0m in \u001B[0;36m<module>\u001B[0;34m\u001B[0m\n\u001B[0;32m----> 1\u001B[0;31m \u001B[0mclifford\u001B[0m\u001B[0;34m.\u001B[0m\u001B[0mpet\u001B[0m \u001B[0;34m=\u001B[0m \u001B[0;32mFalse\u001B[0m\u001B[0;34m\u001B[0m\u001B[0;34m\u001B[0m\u001B[0m\n\u001B[0m",
      "\u001B[0;31mAttributeError\u001B[0m: can't set attribute"
     ],
     "ename": "AttributeError",
     "evalue": "can't set attribute",
     "output_type": "error"
    }
   ]
  },
  {
   "cell_type": "code",
   "source": [
    "clifford.info()"
   ],
   "metadata": {
    "trusted": true
   },
   "execution_count": 45,
   "outputs": [
    {
     "name": "stdout",
     "text": "\nName: Clifford\nPet status: True\n\n",
     "output_type": "stream"
    }
   ]
  },
  {
   "cell_type": "markdown",
   "source": [
    "## Boolean filtering"
   ],
   "metadata": {}
  },
  {
   "cell_type": "markdown",
   "source": [
    "* Dictionaries are incredibly versatile, even funtions can be keys.\n",
    "* We can use this to create a clean matching function, similar to a Java switch.\n",
    "* This is a lot cleaner than the if else alternative.\n",
    "* This can be useful if we don't want any short circuiting and multiple matches are possible."
   ],
   "metadata": {}
  },
  {
   "cell_type": "code",
   "source": [
    "def match(x: int) -> list:\n",
    "    bool_dict = {\n",
    "        lambda num: num + 1 == 2: \"That's numberwang!\",\n",
    "        lambda num: num % 2 == 0: \"Even Stevens!\",\n",
    "        lambda num: num % 3 == 0: \"Divisible by 6.\"\n",
    "    }\n",
    "    result = [result for test, result in bool_dict.items() if test(x)]\n",
    "    return result"
   ],
   "metadata": {
    "trusted": true
   },
   "execution_count": 46,
   "outputs": []
  },
  {
   "cell_type": "code",
   "source": [
    "match(1)"
   ],
   "metadata": {
    "trusted": true
   },
   "execution_count": 47,
   "outputs": [
    {
     "execution_count": 47,
     "output_type": "execute_result",
     "data": {
      "text/plain": "[\"That's numberwang!\"]"
     },
     "metadata": {}
    }
   ]
  },
  {
   "cell_type": "code",
   "source": [
    "match(2)"
   ],
   "metadata": {
    "trusted": true
   },
   "execution_count": 48,
   "outputs": [
    {
     "execution_count": 48,
     "output_type": "execute_result",
     "data": {
      "text/plain": "['Even Stevens!']"
     },
     "metadata": {}
    }
   ]
  },
  {
   "cell_type": "code",
   "source": [
    "match(6)"
   ],
   "metadata": {
    "trusted": true
   },
   "execution_count": 49,
   "outputs": [
    {
     "execution_count": 49,
     "output_type": "execute_result",
     "data": {
      "text/plain": "['Even Stevens!', 'Divisible by 6.']"
     },
     "metadata": {}
    }
   ]
  },
  {
   "cell_type": "code",
   "source": [
    "match(-1)"
   ],
   "metadata": {
    "trusted": true
   },
   "execution_count": 50,
   "outputs": [
    {
     "execution_count": 50,
     "output_type": "execute_result",
     "data": {
      "text/plain": "[]"
     },
     "metadata": {}
    }
   ]
  },
  {
   "cell_type": "markdown",
   "source": [
    "This implementation is better if we want `CASE WHEN` logic, where only the final match is kept."
   ],
   "metadata": {}
  },
  {
   "cell_type": "code",
   "source": [
    "from typing import Optional"
   ],
   "metadata": {
    "trusted": true
   },
   "execution_count": 51,
   "outputs": []
  },
  {
   "cell_type": "code",
   "source": [
    "def match(x: int) -> Optional[str]:\n",
    "    bool_dict = {\n",
    "        lambda num: num + 1 == 2: \"That's numberwang!\",\n",
    "        lambda num: num % 2 == 0: \"Even Stevens!\",\n",
    "        lambda num: num % 3 == 0: \"Divisible by 6.\"\n",
    "    }\n",
    "    result = [result for test, result in bool_dict.items() if test(x)]\n",
    "    result.insert(0, None) # insert None at the front in case of no match\n",
    "    return result[-1]"
   ],
   "metadata": {
    "trusted": true
   },
   "execution_count": 52,
   "outputs": []
  },
  {
   "cell_type": "code",
   "source": [
    "match(1)"
   ],
   "metadata": {
    "trusted": true
   },
   "execution_count": 53,
   "outputs": [
    {
     "execution_count": 53,
     "output_type": "execute_result",
     "data": {
      "text/plain": "\"That's numberwang!\""
     },
     "metadata": {}
    }
   ]
  },
  {
   "cell_type": "code",
   "source": [
    "match(0)"
   ],
   "metadata": {
    "trusted": true
   },
   "execution_count": 54,
   "outputs": [
    {
     "execution_count": 54,
     "output_type": "execute_result",
     "data": {
      "text/plain": "'Divisible by 6.'"
     },
     "metadata": {}
    }
   ]
  },
  {
   "cell_type": "code",
   "source": [
    "match(6)"
   ],
   "metadata": {
    "trusted": true
   },
   "execution_count": 55,
   "outputs": [
    {
     "execution_count": 55,
     "output_type": "execute_result",
     "data": {
      "text/plain": "'Divisible by 6.'"
     },
     "metadata": {}
    }
   ]
  },
  {
   "cell_type": "code",
   "source": [
    "match(-1)"
   ],
   "metadata": {
    "trusted": true
   },
   "execution_count": 56,
   "outputs": []
  },
  {
   "cell_type": "markdown",
   "source": [
    "## Dynamic Class Attribute"
   ],
   "metadata": {}
  },
  {
   "cell_type": "markdown",
   "source": [
    "Nice way to differentiate the result of a method call by the context.\n",
    "\n",
    "You'll get different values depending on the class name call versus the object call."
   ],
   "metadata": {}
  },
  {
   "cell_type": "code",
   "source": [
    "from types import DynamicClassAttribute\n",
    "\n",
    "# Metaclass\n",
    "class AnimalMeta(type):\n",
    "\n",
    "    def __getattr__(self, value):\n",
    "        return AnimalMeta.value\n",
    "\n",
    "    # Metaclasses dynprop:\n",
    "    value = 'meta'\n",
    "\n",
    "class Bird(metaclass=AnimalMeta):\n",
    "    def __init__(self, in_):\n",
    "        self._value = in_\n",
    "\n",
    "    @DynamicClassAttribute\n",
    "    def value(self):\n",
    "        return self._value"
   ],
   "metadata": {
    "trusted": true
   },
   "execution_count": 57,
   "outputs": []
  },
  {
   "cell_type": "code",
   "source": [
    "Bird.value"
   ],
   "metadata": {
    "trusted": true
   },
   "execution_count": 58,
   "outputs": [
    {
     "execution_count": 58,
     "output_type": "execute_result",
     "data": {
      "text/plain": "'meta'"
     },
     "metadata": {}
    }
   ]
  },
  {
   "cell_type": "code",
   "source": [
    "a = Bird('not meta')\n",
    "print(a.value)"
   ],
   "metadata": {
    "trusted": true
   },
   "execution_count": 59,
   "outputs": [
    {
     "name": "stdout",
     "text": "not meta\n",
     "output_type": "stream"
    }
   ]
  },
  {
   "cell_type": "markdown",
   "source": [
    "## Cache init args"
   ],
   "metadata": {}
  },
  {
   "cell_type": "code",
   "source": [
    "import inspect"
   ],
   "metadata": {
    "trusted": true
   },
   "execution_count": 60,
   "outputs": []
  },
  {
   "cell_type": "code",
   "source": [
    "def cache_init_kwargs(func):\n",
    "    def saved_init(*args, **kwargs):\n",
    "        arguments = inspect.signature(func).bind(*args, **kwargs).arguments\n",
    "        arguments.pop('self', None)\n",
    "        self = args[0]\n",
    "        self._init_arguments = arguments\n",
    "        return func(*args, **kwargs)\n",
    "    \n",
    "    return saved_init"
   ],
   "metadata": {
    "trusted": true
   },
   "execution_count": 61,
   "outputs": []
  },
  {
   "cell_type": "code",
   "source": [
    "class Computer:\n",
    "    @cache_init_kwargs\n",
    "    def __init__(self, storage: float, ram: float):\n",
    "        self.storage = storage\n",
    "        self.ram = ram\n",
    "        \n",
    "    def __repr__(self):\n",
    "        return f\"This computer has a storage of {self.storage}GB and {self.ram}GB ram.\""
   ],
   "metadata": {
    "trusted": true
   },
   "execution_count": 62,
   "outputs": []
  },
  {
   "cell_type": "code",
   "source": [
    "test = Computer(500, 16)"
   ],
   "metadata": {
    "trusted": true
   },
   "execution_count": 63,
   "outputs": []
  },
  {
   "cell_type": "code",
   "source": [
    "test._init_arguments"
   ],
   "metadata": {
    "trusted": true
   },
   "execution_count": 64,
   "outputs": [
    {
     "execution_count": 64,
     "output_type": "execute_result",
     "data": {
      "text/plain": "OrderedDict([('storage', 500), ('ram', 16)])"
     },
     "metadata": {}
    }
   ]
  },
  {
   "cell_type": "markdown",
   "source": [
    "## Guardrail"
   ],
   "metadata": {}
  },
  {
   "cell_type": "code",
   "source": [
    "from typing import Callable\n",
    "from functools import wraps"
   ],
   "metadata": {
    "trusted": true
   },
   "execution_count": 65,
   "outputs": []
  },
  {
   "cell_type": "code",
   "source": [
    "def guardrail(guarded_argument: str, boolean_test: Callable, error_message: str):\n",
    "    def wrapper(func: Callable) -> Callable:\n",
    "        @wraps(func)\n",
    "        def guardrailed_function(*args, **kwargs):\n",
    "            arguments = inspect.signature(func).bind(*args, **kwargs).arguments\n",
    "            value = arguments.get(guarded_argument, None)\n",
    "            \n",
    "            if value is None:\n",
    "                raise ValueError(\"argument specified was not provided\")\n",
    "                \n",
    "            assert boolean_test(value), f\"arg: {value} failed guardrail test. {error_message}\"\n",
    "            \n",
    "            return func(*args, **kwargs)\n",
    "        \n",
    "        return guardrailed_function\n",
    "    \n",
    "    return wrapper        "
   ],
   "metadata": {
    "trusted": true
   },
   "execution_count": 66,
   "outputs": []
  },
  {
   "cell_type": "code",
   "source": [
    "@guardrail('x', lambda x: isinstance(x, int), \"must be an integer.\")\n",
    "def add_one(x):\n",
    "    return x+1"
   ],
   "metadata": {
    "trusted": true
   },
   "execution_count": 67,
   "outputs": []
  },
  {
   "cell_type": "code",
   "source": [
    "add_one(1)"
   ],
   "metadata": {
    "trusted": true
   },
   "execution_count": 68,
   "outputs": [
    {
     "execution_count": 68,
     "output_type": "execute_result",
     "data": {
      "text/plain": "2"
     },
     "metadata": {}
    }
   ]
  },
  {
   "cell_type": "code",
   "source": [
    "add_one(1.0)"
   ],
   "metadata": {
    "trusted": true
   },
   "execution_count": 69,
   "outputs": [
    {
     "traceback": [
      "\u001B[0;31m---------------------------------------------------------------------------\u001B[0m",
      "\u001B[0;31mAssertionError\u001B[0m                            Traceback (most recent call last)",
      "\u001B[0;32m/tmp/ipykernel_100/418379992.py\u001B[0m in \u001B[0;36m<module>\u001B[0;34m\u001B[0m\n\u001B[0;32m----> 1\u001B[0;31m \u001B[0madd_one\u001B[0m\u001B[0;34m(\u001B[0m\u001B[0;36m1.0\u001B[0m\u001B[0;34m)\u001B[0m\u001B[0;34m\u001B[0m\u001B[0;34m\u001B[0m\u001B[0m\n\u001B[0m",
      "\u001B[0;32m/tmp/ipykernel_100/3251806324.py\u001B[0m in \u001B[0;36mguardrailed_function\u001B[0;34m(*args, **kwargs)\u001B[0m\n\u001B[1;32m      9\u001B[0m                 \u001B[0;32mraise\u001B[0m \u001B[0mValueError\u001B[0m\u001B[0;34m(\u001B[0m\u001B[0;34m\"argument specified was not provided\"\u001B[0m\u001B[0;34m)\u001B[0m\u001B[0;34m\u001B[0m\u001B[0;34m\u001B[0m\u001B[0m\n\u001B[1;32m     10\u001B[0m \u001B[0;34m\u001B[0m\u001B[0m\n\u001B[0;32m---> 11\u001B[0;31m             \u001B[0;32massert\u001B[0m \u001B[0mboolean_test\u001B[0m\u001B[0;34m(\u001B[0m\u001B[0mvalue\u001B[0m\u001B[0;34m)\u001B[0m\u001B[0;34m,\u001B[0m \u001B[0;34mf\"arg: {value} failed guardrail test. {error_message}\"\u001B[0m\u001B[0;34m\u001B[0m\u001B[0;34m\u001B[0m\u001B[0m\n\u001B[0m\u001B[1;32m     12\u001B[0m \u001B[0;34m\u001B[0m\u001B[0m\n\u001B[1;32m     13\u001B[0m             \u001B[0;32mreturn\u001B[0m \u001B[0mfunc\u001B[0m\u001B[0;34m(\u001B[0m\u001B[0;34m*\u001B[0m\u001B[0margs\u001B[0m\u001B[0;34m,\u001B[0m \u001B[0;34m**\u001B[0m\u001B[0mkwargs\u001B[0m\u001B[0;34m)\u001B[0m\u001B[0;34m\u001B[0m\u001B[0;34m\u001B[0m\u001B[0m\n",
      "\u001B[0;31mAssertionError\u001B[0m: arg: 1.0 failed guardrail test. must be an integer."
     ],
     "ename": "AssertionError",
     "evalue": "arg: 1.0 failed guardrail test. must be an integer.",
     "output_type": "error"
    }
   ]
  },
  {
   "cell_type": "markdown",
   "source": [
    "### Single dispatch"
   ],
   "metadata": {
    "collapsed": false,
    "pycharm": {
     "name": "#%% md\n"
    }
   }
  },
  {
   "cell_type": "code",
   "execution_count": 14,
   "outputs": [],
   "source": [
    "from functools import singledispatch\n",
    "@singledispatch\n",
    "def test(arg, verbose=False):\n",
    "    print(\"default\")"
   ],
   "metadata": {
    "collapsed": false,
    "pycharm": {
     "name": "#%%\n"
    }
   }
  },
  {
   "cell_type": "code",
   "execution_count": 15,
   "outputs": [],
   "source": [
    "@test.register\n",
    "def int_test(arg: int, verbose=False):\n",
    "    print(\"int\")\n",
    "\n",
    "@test.register\n",
    "def str_test(arg: str, verbose=False):\n",
    "    print(\"str\")"
   ],
   "metadata": {
    "collapsed": false,
    "pycharm": {
     "name": "#%%\n"
    }
   }
  },
  {
   "cell_type": "code",
   "execution_count": 16,
   "outputs": [
    {
     "name": "stdout",
     "output_type": "stream",
     "text": [
      "int\n"
     ]
    }
   ],
   "source": [
    "test(1)"
   ],
   "metadata": {
    "collapsed": false,
    "pycharm": {
     "name": "#%%\n"
    }
   }
  },
  {
   "cell_type": "code",
   "execution_count": 17,
   "outputs": [
    {
     "name": "stdout",
     "output_type": "stream",
     "text": [
      "str\n"
     ]
    }
   ],
   "source": [
    "test(\"thing\")"
   ],
   "metadata": {
    "collapsed": false,
    "pycharm": {
     "name": "#%%\n"
    }
   }
  },
  {
   "cell_type": "markdown",
   "source": [
    "If no implementation exists for the type, then method resolution order is used.\n",
    "E.g. for `bool` below, mro means that the `int` implementation is used."
   ],
   "metadata": {
    "collapsed": false,
    "pycharm": {
     "name": "#%% md\n"
    }
   }
  },
  {
   "cell_type": "code",
   "execution_count": 18,
   "outputs": [
    {
     "name": "stdout",
     "output_type": "stream",
     "text": [
      "int\n"
     ]
    }
   ],
   "source": [
    "test(True)"
   ],
   "metadata": {
    "collapsed": false,
    "pycharm": {
     "name": "#%%\n"
    }
   }
  },
  {
   "cell_type": "markdown",
   "source": [
    "The original function is registered for the `object` type, so `None` takes us to this implementation via mro."
   ],
   "metadata": {
    "collapsed": false,
    "pycharm": {
     "name": "#%% md\n"
    }
   }
  },
  {
   "cell_type": "code",
   "execution_count": 19,
   "outputs": [
    {
     "name": "stdout",
     "output_type": "stream",
     "text": [
      "default\n"
     ]
    }
   ],
   "source": [
    "test(None)"
   ],
   "metadata": {
    "collapsed": false,
    "pycharm": {
     "name": "#%%\n"
    }
   }
  },
  {
   "cell_type": "markdown",
   "source": [
    "We can check which types go to which implementation, using `.dispatch` like below."
   ],
   "metadata": {
    "collapsed": false,
    "pycharm": {
     "name": "#%% md\n"
    }
   }
  },
  {
   "cell_type": "code",
   "execution_count": 20,
   "outputs": [
    {
     "data": {
      "text/plain": "<function __main__.test(arg, verbose=False)>"
     },
     "execution_count": 20,
     "metadata": {},
     "output_type": "execute_result"
    }
   ],
   "source": [
    "test.dispatch(float)"
   ],
   "metadata": {
    "collapsed": false,
    "pycharm": {
     "name": "#%%\n"
    }
   }
  },
  {
   "cell_type": "code",
   "execution_count": 22,
   "outputs": [
    {
     "name": "stdout",
     "output_type": "stream",
     "text": [
      "default\n"
     ]
    }
   ],
   "source": [
    "test(1.0)"
   ],
   "metadata": {
    "collapsed": false,
    "pycharm": {
     "name": "#%%\n"
    }
   }
  }
 ]
}