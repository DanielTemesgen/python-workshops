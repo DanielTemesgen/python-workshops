{
 "cells": [
  {
   "cell_type": "code",
   "execution_count": 1,
   "metadata": {},
   "outputs": [
    {
     "data": {
      "text/plain": [
       "'/Users/Daniel/Desktop/GitHub_Repos/python-workshops/'"
      ]
     },
     "execution_count": 1,
     "metadata": {},
     "output_type": "execute_result"
    }
   ],
   "source": [
    "# Let's define our working directory for later on\n",
    "import os\n",
    "wd = os.getcwd() + '/'  #cwd = current working directory, added a slash to make findin sub-directories easier\n",
    "wd"
   ]
  },
  {
   "cell_type": "code",
   "execution_count": 2,
   "metadata": {},
   "outputs": [
    {
     "data": {
      "text/html": [
       "<style>.container { width:85% !important; }</style>"
      ],
      "text/plain": [
       "<IPython.core.display.HTML object>"
      ]
     },
     "metadata": {},
     "output_type": "display_data"
    }
   ],
   "source": [
    "# Let's make the code cells wider, we've got a big screen for a reason!\n",
    "from IPython.core.display import display, HTML, Markdown\n",
    "display(HTML(\"<style>.container { width:85% !important; }</style>\"))"
   ]
  },
  {
   "cell_type": "markdown",
   "metadata": {},
   "source": [
    "### Scikit-Learn"
   ]
  },
  {
   "cell_type": "code",
   "execution_count": 3,
   "metadata": {},
   "outputs": [],
   "source": [
    "import pandas as pd\n",
    "from sklearn.pipeline import make_pipeline\n",
    "from sklearn.datasets import make_classification, load_iris"
   ]
  },
  {
   "cell_type": "markdown",
   "metadata": {},
   "source": [
    "Let's make a fake numeric dataset for the purpose of our examples.\n",
    "\n",
    "We'll do this by using scikit-learn's helpful `make_classification` function.\n",
    "\n",
    "<mark>You can 'unpack' arguments into a function via a dictionary using the `**` notation (see below).</mark>"
   ]
  },
  {
   "cell_type": "code",
   "execution_count": 4,
   "metadata": {},
   "outputs": [],
   "source": [
    "make_classification_dict = {'n_samples': 100000, 'n_features': 50}\n",
    "\n",
    "sample_data =  make_classification(**make_classification_dict)"
   ]
  },
  {
   "cell_type": "markdown",
   "metadata": {},
   "source": [
    "Let's look at our X:"
   ]
  },
  {
   "cell_type": "code",
   "execution_count": 5,
   "metadata": {},
   "outputs": [
    {
     "data": {
      "text/html": [
       "<div>\n",
       "<style scoped>\n",
       "    .dataframe tbody tr th:only-of-type {\n",
       "        vertical-align: middle;\n",
       "    }\n",
       "\n",
       "    .dataframe tbody tr th {\n",
       "        vertical-align: top;\n",
       "    }\n",
       "\n",
       "    .dataframe thead th {\n",
       "        text-align: right;\n",
       "    }\n",
       "</style>\n",
       "<table border=\"1\" class=\"dataframe\">\n",
       "  <thead>\n",
       "    <tr style=\"text-align: right;\">\n",
       "      <th></th>\n",
       "      <th>0</th>\n",
       "      <th>1</th>\n",
       "      <th>2</th>\n",
       "      <th>3</th>\n",
       "      <th>4</th>\n",
       "      <th>5</th>\n",
       "      <th>6</th>\n",
       "      <th>7</th>\n",
       "      <th>8</th>\n",
       "      <th>9</th>\n",
       "      <th>...</th>\n",
       "      <th>40</th>\n",
       "      <th>41</th>\n",
       "      <th>42</th>\n",
       "      <th>43</th>\n",
       "      <th>44</th>\n",
       "      <th>45</th>\n",
       "      <th>46</th>\n",
       "      <th>47</th>\n",
       "      <th>48</th>\n",
       "      <th>49</th>\n",
       "    </tr>\n",
       "  </thead>\n",
       "  <tbody>\n",
       "    <tr>\n",
       "      <th>0</th>\n",
       "      <td>2.251221</td>\n",
       "      <td>-0.012311</td>\n",
       "      <td>-1.320942</td>\n",
       "      <td>-0.032370</td>\n",
       "      <td>0.368799</td>\n",
       "      <td>1.362116</td>\n",
       "      <td>-0.130009</td>\n",
       "      <td>-0.611763</td>\n",
       "      <td>3.103583</td>\n",
       "      <td>1.960856</td>\n",
       "      <td>...</td>\n",
       "      <td>0.100898</td>\n",
       "      <td>-1.401673</td>\n",
       "      <td>-0.160444</td>\n",
       "      <td>-0.666989</td>\n",
       "      <td>-0.011218</td>\n",
       "      <td>-2.217573</td>\n",
       "      <td>0.593069</td>\n",
       "      <td>-0.117720</td>\n",
       "      <td>0.632228</td>\n",
       "      <td>-1.192230</td>\n",
       "    </tr>\n",
       "    <tr>\n",
       "      <th>1</th>\n",
       "      <td>-1.048722</td>\n",
       "      <td>-0.045170</td>\n",
       "      <td>-1.846117</td>\n",
       "      <td>1.370768</td>\n",
       "      <td>-2.270424</td>\n",
       "      <td>-2.692576</td>\n",
       "      <td>1.136915</td>\n",
       "      <td>1.770672</td>\n",
       "      <td>-0.474675</td>\n",
       "      <td>-1.286856</td>\n",
       "      <td>...</td>\n",
       "      <td>-1.236203</td>\n",
       "      <td>-0.110210</td>\n",
       "      <td>-0.317164</td>\n",
       "      <td>-0.241929</td>\n",
       "      <td>0.573076</td>\n",
       "      <td>0.074078</td>\n",
       "      <td>2.116912</td>\n",
       "      <td>1.430385</td>\n",
       "      <td>0.921567</td>\n",
       "      <td>-1.348312</td>\n",
       "    </tr>\n",
       "    <tr>\n",
       "      <th>2</th>\n",
       "      <td>-0.750163</td>\n",
       "      <td>0.252610</td>\n",
       "      <td>2.168379</td>\n",
       "      <td>-0.863660</td>\n",
       "      <td>1.390784</td>\n",
       "      <td>0.099343</td>\n",
       "      <td>-0.938152</td>\n",
       "      <td>-0.374619</td>\n",
       "      <td>0.516447</td>\n",
       "      <td>0.815345</td>\n",
       "      <td>...</td>\n",
       "      <td>1.019299</td>\n",
       "      <td>-0.550655</td>\n",
       "      <td>-0.473692</td>\n",
       "      <td>-1.363697</td>\n",
       "      <td>-1.163716</td>\n",
       "      <td>-0.628676</td>\n",
       "      <td>-1.328041</td>\n",
       "      <td>0.426832</td>\n",
       "      <td>1.003422</td>\n",
       "      <td>-1.359487</td>\n",
       "    </tr>\n",
       "    <tr>\n",
       "      <th>3</th>\n",
       "      <td>0.552622</td>\n",
       "      <td>0.274128</td>\n",
       "      <td>-0.019903</td>\n",
       "      <td>0.315549</td>\n",
       "      <td>-0.668725</td>\n",
       "      <td>0.284359</td>\n",
       "      <td>0.534019</td>\n",
       "      <td>-1.058670</td>\n",
       "      <td>-0.339077</td>\n",
       "      <td>-0.153833</td>\n",
       "      <td>...</td>\n",
       "      <td>-0.351115</td>\n",
       "      <td>-0.146186</td>\n",
       "      <td>-0.679932</td>\n",
       "      <td>-0.426024</td>\n",
       "      <td>1.156517</td>\n",
       "      <td>-0.367446</td>\n",
       "      <td>0.436927</td>\n",
       "      <td>0.784765</td>\n",
       "      <td>0.525042</td>\n",
       "      <td>-1.269137</td>\n",
       "    </tr>\n",
       "    <tr>\n",
       "      <th>4</th>\n",
       "      <td>-0.238636</td>\n",
       "      <td>-1.320778</td>\n",
       "      <td>-0.309326</td>\n",
       "      <td>-0.195432</td>\n",
       "      <td>-0.005561</td>\n",
       "      <td>0.079782</td>\n",
       "      <td>-1.475105</td>\n",
       "      <td>-0.894555</td>\n",
       "      <td>0.851587</td>\n",
       "      <td>-1.221434</td>\n",
       "      <td>...</td>\n",
       "      <td>0.042865</td>\n",
       "      <td>1.359067</td>\n",
       "      <td>-1.240270</td>\n",
       "      <td>-0.334712</td>\n",
       "      <td>0.206547</td>\n",
       "      <td>0.380151</td>\n",
       "      <td>0.131277</td>\n",
       "      <td>2.417521</td>\n",
       "      <td>-1.271747</td>\n",
       "      <td>1.017154</td>\n",
       "    </tr>\n",
       "  </tbody>\n",
       "</table>\n",
       "<p>5 rows × 50 columns</p>\n",
       "</div>"
      ],
      "text/plain": [
       "         0         1         2         3         4         5         6   \\\n",
       "0  2.251221 -0.012311 -1.320942 -0.032370  0.368799  1.362116 -0.130009   \n",
       "1 -1.048722 -0.045170 -1.846117  1.370768 -2.270424 -2.692576  1.136915   \n",
       "2 -0.750163  0.252610  2.168379 -0.863660  1.390784  0.099343 -0.938152   \n",
       "3  0.552622  0.274128 -0.019903  0.315549 -0.668725  0.284359  0.534019   \n",
       "4 -0.238636 -1.320778 -0.309326 -0.195432 -0.005561  0.079782 -1.475105   \n",
       "\n",
       "         7         8         9   ...        40        41        42        43  \\\n",
       "0 -0.611763  3.103583  1.960856  ...  0.100898 -1.401673 -0.160444 -0.666989   \n",
       "1  1.770672 -0.474675 -1.286856  ... -1.236203 -0.110210 -0.317164 -0.241929   \n",
       "2 -0.374619  0.516447  0.815345  ...  1.019299 -0.550655 -0.473692 -1.363697   \n",
       "3 -1.058670 -0.339077 -0.153833  ... -0.351115 -0.146186 -0.679932 -0.426024   \n",
       "4 -0.894555  0.851587 -1.221434  ...  0.042865  1.359067 -1.240270 -0.334712   \n",
       "\n",
       "         44        45        46        47        48        49  \n",
       "0 -0.011218 -2.217573  0.593069 -0.117720  0.632228 -1.192230  \n",
       "1  0.573076  0.074078  2.116912  1.430385  0.921567 -1.348312  \n",
       "2 -1.163716 -0.628676 -1.328041  0.426832  1.003422 -1.359487  \n",
       "3  1.156517 -0.367446  0.436927  0.784765  0.525042 -1.269137  \n",
       "4  0.206547  0.380151  0.131277  2.417521 -1.271747  1.017154  \n",
       "\n",
       "[5 rows x 50 columns]"
      ]
     },
     "execution_count": 5,
     "metadata": {},
     "output_type": "execute_result"
    }
   ],
   "source": [
    "X = pd.DataFrame(sample_data[0])\n",
    "X.head()"
   ]
  },
  {
   "cell_type": "markdown",
   "metadata": {},
   "source": [
    "Let's look at our y: <br>\n",
    "<mark>You can continue code onto the next line with `\\` (see below)</mark>"
   ]
  },
  {
   "cell_type": "code",
   "execution_count": 6,
   "metadata": {},
   "outputs": [
    {
     "data": {
      "text/html": [
       "<div>\n",
       "<style scoped>\n",
       "    .dataframe tbody tr th:only-of-type {\n",
       "        vertical-align: middle;\n",
       "    }\n",
       "\n",
       "    .dataframe tbody tr th {\n",
       "        vertical-align: top;\n",
       "    }\n",
       "\n",
       "    .dataframe thead th {\n",
       "        text-align: right;\n",
       "    }\n",
       "</style>\n",
       "<table border=\"1\" class=\"dataframe\">\n",
       "  <thead>\n",
       "    <tr style=\"text-align: right;\">\n",
       "      <th></th>\n",
       "      <th>0</th>\n",
       "    </tr>\n",
       "  </thead>\n",
       "  <tbody>\n",
       "    <tr>\n",
       "      <th>0</th>\n",
       "      <td>1</td>\n",
       "    </tr>\n",
       "    <tr>\n",
       "      <th>1</th>\n",
       "      <td>1</td>\n",
       "    </tr>\n",
       "    <tr>\n",
       "      <th>2</th>\n",
       "      <td>1</td>\n",
       "    </tr>\n",
       "    <tr>\n",
       "      <th>3</th>\n",
       "      <td>1</td>\n",
       "    </tr>\n",
       "    <tr>\n",
       "      <th>4</th>\n",
       "      <td>0</td>\n",
       "    </tr>\n",
       "  </tbody>\n",
       "</table>\n",
       "</div>"
      ],
      "text/plain": [
       "   0\n",
       "0  1\n",
       "1  1\n",
       "2  1\n",
       "3  1\n",
       "4  0"
      ]
     },
     "execution_count": 6,
     "metadata": {},
     "output_type": "execute_result"
    }
   ],
   "source": [
    "y = pd.Series(sample_data[1])\\\n",
    ".to_frame()\n",
    "y.head()"
   ]
  },
  {
   "cell_type": "markdown",
   "metadata": {
    "heading_collapsed": true
   },
   "source": [
    "#### Pipelines\n",
    "<img style=\"float: left;\" src=\"images/simple_pipelines.gif\">"
   ]
  },
  {
   "cell_type": "markdown",
   "metadata": {
    "hidden": true
   },
   "source": [
    "Prior to pipelines, the best way of organising the steps in your model would be to define separate variables for all steps.\n",
    "\n",
    "\n",
    "Disadvantages\n",
    "* Polluting the namespace\n",
    "* Potential data leakage"
   ]
  },
  {
   "cell_type": "code",
   "execution_count": 7,
   "metadata": {
    "hidden": true
   },
   "outputs": [],
   "source": [
    "from sklearn.model_selection import train_test_split\n",
    "X_train, X_test, y_train, y_test = train_test_split(X, y, stratify = y)"
   ]
  },
  {
   "cell_type": "code",
   "execution_count": 8,
   "metadata": {
    "hidden": true
   },
   "outputs": [],
   "source": [
    "from sklearn.preprocessing import StandardScaler\n",
    "scaler = StandardScaler() #we instantiate the scaler object\n",
    "X_train_scaled = scaler.fit_transform(X_train) #we fit and transform X into the scaler object using .fit_transform()"
   ]
  },
  {
   "cell_type": "markdown",
   "metadata": {
    "hidden": true
   },
   "source": [
    "Now let's say we want to apply a logistic regression."
   ]
  },
  {
   "cell_type": "code",
   "execution_count": 9,
   "metadata": {
    "hidden": true
   },
   "outputs": [
    {
     "data": {
      "text/plain": [
       "LogisticRegression(C=1.0, class_weight=None, dual=False, fit_intercept=True,\n",
       "                   intercept_scaling=1, l1_ratio=None, max_iter=100,\n",
       "                   multi_class='warn', n_jobs=None, penalty='l2',\n",
       "                   random_state=None, solver='lbfgs', tol=0.0001, verbose=0,\n",
       "                   warm_start=False)"
      ]
     },
     "execution_count": 9,
     "metadata": {},
     "output_type": "execute_result"
    }
   ],
   "source": [
    "from sklearn.linear_model import LogisticRegression\n",
    "logreg = LogisticRegression(solver='lbfgs')\n",
    "logreg.fit(X_train_scaled, y_train.values.ravel())"
   ]
  },
  {
   "cell_type": "code",
   "execution_count": 10,
   "metadata": {
    "hidden": true
   },
   "outputs": [
    {
     "data": {
      "text/plain": [
       "0.90012"
      ]
     },
     "execution_count": 10,
     "metadata": {},
     "output_type": "execute_result"
    }
   ],
   "source": [
    "logreg.score(X_test, y_test)"
   ]
  },
  {
   "cell_type": "markdown",
   "metadata": {
    "hidden": true
   },
   "source": [
    "Now, imagine we've got lots of steps, <br>\n",
    "let's say we're applying a `VarianceThreshold()` or a `SelectKBest` <br>\n",
    "We would have to do the following."
   ]
  },
  {
   "cell_type": "code",
   "execution_count": 11,
   "metadata": {
    "hidden": true
   },
   "outputs": [
    {
     "data": {
      "text/plain": [
       "LogisticRegression(C=1.0, class_weight=None, dual=False, fit_intercept=True,\n",
       "                   intercept_scaling=1, l1_ratio=None, max_iter=100,\n",
       "                   multi_class='warn', n_jobs=None, penalty='l2',\n",
       "                   random_state=None, solver='lbfgs', tol=0.0001, verbose=0,\n",
       "                   warm_start=False)"
      ]
     },
     "execution_count": 11,
     "metadata": {},
     "output_type": "execute_result"
    }
   ],
   "source": [
    "from sklearn.feature_selection import VarianceThreshold, SelectKBest\n",
    "\n",
    "k_best = SelectKBest()\n",
    "X_train_k_best = k_best.fit_transform(X_train, y_train.values.ravel())\n",
    "\n",
    "scaler = StandardScaler() #we instantiate the scaler object\n",
    "X_train_scaled = scaler.fit_transform(X_train) #we fit and transform X into the scaler object using .fit_transform()\n",
    "\n",
    "var_thres = VarianceThreshold(threshold = 0.0)\n",
    "X_train_var_thresh = var_thres.fit_transform(X_train_scaled)\n",
    "\n",
    "logreg = LogisticRegression(solver='lbfgs')\n",
    "logreg.fit(X_train_var_thresh, y_train.values.ravel())\n",
    "\n"
   ]
  },
  {
   "cell_type": "code",
   "execution_count": 12,
   "metadata": {
    "hidden": true
   },
   "outputs": [
    {
     "data": {
      "text/plain": [
       "0.90012"
      ]
     },
     "execution_count": 12,
     "metadata": {},
     "output_type": "execute_result"
    }
   ],
   "source": [
    "logreg.score(X_test, y_test)"
   ]
  },
  {
   "cell_type": "code",
   "execution_count": 13,
   "metadata": {
    "hidden": true,
    "scrolled": false
   },
   "outputs": [
    {
     "data": {
      "text/plain": [
       "<Figure size 1600x900 with 1 Axes>"
      ]
     },
     "metadata": {},
     "output_type": "display_data"
    }
   ],
   "source": [
    "from matplotlib import pyplot as plt\n",
    "pd.DataFrame(k_best.pvalues_).sort_values(0, ascending = False).plot(kind = 'bar', title= 'anova p_values', figsize = (16, 9))\n",
    "plt.show()"
   ]
  },
  {
   "cell_type": "markdown",
   "metadata": {
    "hidden": true
   },
   "source": [
    "What if we want cross-validation with some parameter tuning?"
   ]
  },
  {
   "cell_type": "code",
   "execution_count": 14,
   "metadata": {
    "hidden": true
   },
   "outputs": [
    {
     "data": {
      "text/plain": [
       "GridSearchCV(cv=5, error_score='raise-deprecating',\n",
       "             estimator=LogisticRegression(C=1.0, class_weight=None, dual=False,\n",
       "                                          fit_intercept=True,\n",
       "                                          intercept_scaling=1, l1_ratio=None,\n",
       "                                          max_iter=100, multi_class='warn',\n",
       "                                          n_jobs=None, penalty='l2',\n",
       "                                          random_state=None, solver='lbfgs',\n",
       "                                          tol=0.0001, verbose=0,\n",
       "                                          warm_start=False),\n",
       "             iid='warn', n_jobs=None,\n",
       "             param_grid={'C': array([1.e-04, 1.e-03, 1.e-02, 1.e-01, 1.e+00, 1.e+01, 1.e+02, 1.e+03,\n",
       "       1.e+04])},\n",
       "             pre_dispatch='2*n_jobs', refit=True, return_train_score=False,\n",
       "             scoring=None, verbose=0)"
      ]
     },
     "execution_count": 14,
     "metadata": {},
     "output_type": "execute_result"
    }
   ],
   "source": [
    "import numpy as np\n",
    "from sklearn.model_selection import GridSearchCV\n",
    "\n",
    "logreg_cv = GridSearchCV(cv = 5, estimator=LogisticRegression(solver = 'lbfgs'), param_grid={'C': np.logspace(-4, 4, num = 9)})\n",
    "logreg_cv.fit(X_train_scaled, y_train.values.ravel())\n"
   ]
  },
  {
   "cell_type": "code",
   "execution_count": 15,
   "metadata": {
    "hidden": true
   },
   "outputs": [],
   "source": [
    "logreg_cv.best_estimator_.score(X_test, y_test)\n",
    "logreg_cv_y_pred = logreg_cv.predict(X_test)\n",
    "logreg_cv_y_scores = logreg_cv.predict_proba(X_test)"
   ]
  },
  {
   "cell_type": "markdown",
   "metadata": {
    "hidden": true
   },
   "source": [
    "<div class=\"alert alert-block alert-danger\">\n",
    "<b>Oh no:</b> We have just commited <b>data leakage.<b>\n",
    "</div>\n",
    "    \n",
    "How? <br>\n",
    "We are using values scaled (StandardScalar) to the *whole population* in a cross-validation (GridSearchCV) with data that is less than the *whole population*. <br>\n",
    "\n",
    "A pipeline could have prevented this, let's convert the example above into one such form."
   ]
  },
  {
   "cell_type": "markdown",
   "metadata": {
    "hidden": true
   },
   "source": [
    "<div class=\"alert alert-block alert-warning\">\n",
    "<b>Also:</b> Coloured markdown cells can help. Try using them for Peer Review.\n",
    "</div>"
   ]
  },
  {
   "cell_type": "code",
   "execution_count": 16,
   "metadata": {
    "hidden": true,
    "scrolled": true
   },
   "outputs": [
    {
     "data": {
      "text/plain": [
       "GridSearchCV(cv=5, error_score='raise-deprecating',\n",
       "             estimator=Pipeline(memory=None,\n",
       "                                steps=[('selectkbest',\n",
       "                                        SelectKBest(k='all',\n",
       "                                                    score_func=<function f_classif at 0x1a20892400>)),\n",
       "                                       ('variancethreshold',\n",
       "                                        VarianceThreshold(threshold=0.0)),\n",
       "                                       ('standardscaler',\n",
       "                                        StandardScaler(copy=True,\n",
       "                                                       with_mean=True,\n",
       "                                                       with_std=True)),\n",
       "                                       ('logisticregression',\n",
       "                                        LogisticRegression(C=1.0,\n",
       "                                                           clas...\n",
       "                                                           max_iter=100,\n",
       "                                                           multi_class='warn',\n",
       "                                                           n_jobs=None,\n",
       "                                                           penalty='l2',\n",
       "                                                           random_state=None,\n",
       "                                                           solver='lbfgs',\n",
       "                                                           tol=0.0001,\n",
       "                                                           verbose=0,\n",
       "                                                           warm_start=False))],\n",
       "                                verbose=False),\n",
       "             iid='warn', n_jobs=None,\n",
       "             param_grid={'logisticregression__C': array([1.e-04, 1.e-03, 1.e-02, 1.e-01, 1.e+00, 1.e+01, 1.e+02, 1.e+03,\n",
       "       1.e+04])},\n",
       "             pre_dispatch='2*n_jobs', refit=True, return_train_score=False,\n",
       "             scoring=None, verbose=0)"
      ]
     },
     "execution_count": 16,
     "metadata": {},
     "output_type": "execute_result"
    }
   ],
   "source": [
    "from sklearn.pipeline import make_pipeline\n",
    "\n",
    "log_reg_pipe = make_pipeline(\n",
    "    SelectKBest(k='all')\n",
    "    ,VarianceThreshold()\n",
    "    ,StandardScaler()\n",
    "    ,LogisticRegression(solver = 'lbfgs')\n",
    ")\n",
    "\n",
    "pg = {'logisticregression__C': np.logspace(-4, 4, num = 9)}\n",
    "\n",
    "log_reg = GridSearchCV(cv = 5, estimator = log_reg_pipe, param_grid= pg)\n",
    "log_reg.fit(X_train, y_train.values.ravel())"
   ]
  },
  {
   "cell_type": "markdown",
   "metadata": {
    "hidden": true
   },
   "source": [
    "Now values are scaled **within each k-fold**."
   ]
  },
  {
   "cell_type": "code",
   "execution_count": 17,
   "metadata": {
    "hidden": true,
    "scrolled": true
   },
   "outputs": [
    {
     "data": {
      "text/plain": [
       "{'cv': 5,\n",
       " 'error_score': 'raise-deprecating',\n",
       " 'estimator__memory': None,\n",
       " 'estimator__steps': [('selectkbest',\n",
       "   SelectKBest(k='all', score_func=<function f_classif at 0x1a20892400>)),\n",
       "  ('variancethreshold', VarianceThreshold(threshold=0.0)),\n",
       "  ('standardscaler', StandardScaler(copy=True, with_mean=True, with_std=True)),\n",
       "  ('logisticregression',\n",
       "   LogisticRegression(C=1.0, class_weight=None, dual=False, fit_intercept=True,\n",
       "                      intercept_scaling=1, l1_ratio=None, max_iter=100,\n",
       "                      multi_class='warn', n_jobs=None, penalty='l2',\n",
       "                      random_state=None, solver='lbfgs', tol=0.0001, verbose=0,\n",
       "                      warm_start=False))],\n",
       " 'estimator__verbose': False,\n",
       " 'estimator__selectkbest': SelectKBest(k='all', score_func=<function f_classif at 0x1a20892400>),\n",
       " 'estimator__variancethreshold': VarianceThreshold(threshold=0.0),\n",
       " 'estimator__standardscaler': StandardScaler(copy=True, with_mean=True, with_std=True),\n",
       " 'estimator__logisticregression': LogisticRegression(C=1.0, class_weight=None, dual=False, fit_intercept=True,\n",
       "                    intercept_scaling=1, l1_ratio=None, max_iter=100,\n",
       "                    multi_class='warn', n_jobs=None, penalty='l2',\n",
       "                    random_state=None, solver='lbfgs', tol=0.0001, verbose=0,\n",
       "                    warm_start=False),\n",
       " 'estimator__selectkbest__k': 'all',\n",
       " 'estimator__selectkbest__score_func': <function sklearn.feature_selection.univariate_selection.f_classif(X, y)>,\n",
       " 'estimator__variancethreshold__threshold': 0.0,\n",
       " 'estimator__standardscaler__copy': True,\n",
       " 'estimator__standardscaler__with_mean': True,\n",
       " 'estimator__standardscaler__with_std': True,\n",
       " 'estimator__logisticregression__C': 1.0,\n",
       " 'estimator__logisticregression__class_weight': None,\n",
       " 'estimator__logisticregression__dual': False,\n",
       " 'estimator__logisticregression__fit_intercept': True,\n",
       " 'estimator__logisticregression__intercept_scaling': 1,\n",
       " 'estimator__logisticregression__l1_ratio': None,\n",
       " 'estimator__logisticregression__max_iter': 100,\n",
       " 'estimator__logisticregression__multi_class': 'warn',\n",
       " 'estimator__logisticregression__n_jobs': None,\n",
       " 'estimator__logisticregression__penalty': 'l2',\n",
       " 'estimator__logisticregression__random_state': None,\n",
       " 'estimator__logisticregression__solver': 'lbfgs',\n",
       " 'estimator__logisticregression__tol': 0.0001,\n",
       " 'estimator__logisticregression__verbose': 0,\n",
       " 'estimator__logisticregression__warm_start': False,\n",
       " 'estimator': Pipeline(memory=None,\n",
       "          steps=[('selectkbest',\n",
       "                  SelectKBest(k='all',\n",
       "                              score_func=<function f_classif at 0x1a20892400>)),\n",
       "                 ('variancethreshold', VarianceThreshold(threshold=0.0)),\n",
       "                 ('standardscaler',\n",
       "                  StandardScaler(copy=True, with_mean=True, with_std=True)),\n",
       "                 ('logisticregression',\n",
       "                  LogisticRegression(C=1.0, class_weight=None, dual=False,\n",
       "                                     fit_intercept=True, intercept_scaling=1,\n",
       "                                     l1_ratio=None, max_iter=100,\n",
       "                                     multi_class='warn', n_jobs=None,\n",
       "                                     penalty='l2', random_state=None,\n",
       "                                     solver='lbfgs', tol=0.0001, verbose=0,\n",
       "                                     warm_start=False))],\n",
       "          verbose=False),\n",
       " 'iid': 'warn',\n",
       " 'n_jobs': None,\n",
       " 'param_grid': {'logisticregression__C': array([1.e-04, 1.e-03, 1.e-02, 1.e-01, 1.e+00, 1.e+01, 1.e+02, 1.e+03,\n",
       "         1.e+04])},\n",
       " 'pre_dispatch': '2*n_jobs',\n",
       " 'refit': True,\n",
       " 'return_train_score': False,\n",
       " 'scoring': None,\n",
       " 'verbose': 0}"
      ]
     },
     "execution_count": 17,
     "metadata": {},
     "output_type": "execute_result"
    }
   ],
   "source": [
    "log_reg.get_params()"
   ]
  },
  {
   "cell_type": "code",
   "execution_count": 18,
   "metadata": {
    "hidden": true
   },
   "outputs": [
    {
     "data": {
      "text/plain": [
       "{'logisticregression__C': 0.0001}"
      ]
     },
     "execution_count": 18,
     "metadata": {},
     "output_type": "execute_result"
    }
   ],
   "source": [
    "log_reg.best_params_"
   ]
  },
  {
   "cell_type": "markdown",
   "metadata": {
    "hidden": true
   },
   "source": [
    "We can score the pipeline as normal."
   ]
  },
  {
   "cell_type": "code",
   "execution_count": 19,
   "metadata": {
    "hidden": true
   },
   "outputs": [
    {
     "data": {
      "text/plain": [
       "0.90112"
      ]
     },
     "execution_count": 19,
     "metadata": {},
     "output_type": "execute_result"
    }
   ],
   "source": [
    "log_reg.score(X_test, y_test)"
   ]
  },
  {
   "cell_type": "markdown",
   "metadata": {
    "hidden": true
   },
   "source": [
    "Let's apply this pipeline on a new dataset!"
   ]
  },
  {
   "cell_type": "code",
   "execution_count": 20,
   "metadata": {
    "hidden": true
   },
   "outputs": [
    {
     "data": {
      "text/plain": [
       "(150,)"
      ]
     },
     "execution_count": 20,
     "metadata": {},
     "output_type": "execute_result"
    }
   ],
   "source": [
    "load_iris()['target'].shape"
   ]
  },
  {
   "cell_type": "code",
   "execution_count": 21,
   "metadata": {
    "hidden": true
   },
   "outputs": [],
   "source": [
    "iris_X = load_iris()['data']\n",
    "iris_y = load_iris()['target']\n",
    "iris_X_train, iris_X_test, iris_y_train, iris_y_test = train_test_split(iris_X, iris_y, stratify = iris_y)"
   ]
  },
  {
   "cell_type": "code",
   "execution_count": 62,
   "metadata": {
    "hidden": true
   },
   "outputs": [],
   "source": [
    "from sklearn.pipeline import clone\n",
    "\n",
    "# First we clone the pipeline so we can still access the parameters of the previously trained data.\n",
    "log_reg_iris = clone(log_reg)\n",
    "# Setting the multi_class parameter to 'auto' due to this problem having three classes\n",
    "log_reg_iris.estimator.named_steps['logisticregression'].multi_class = 'auto'\n",
    "log_reg_iris.estimator.named_steps['logisticregression'].max_iter = 1000"
   ]
  },
  {
   "cell_type": "code",
   "execution_count": 63,
   "metadata": {
    "hidden": true,
    "scrolled": true
   },
   "outputs": [
    {
     "name": "stderr",
     "output_type": "stream",
     "text": [
      "/Users/Daniel/anaconda3/envs/python-workshops/lib/python3.6/site-packages/sklearn/model_selection/_search.py:813: DeprecationWarning: The default of the `iid` parameter will change from True to False in version 0.22 and will be removed in 0.24. This will change numeric results when test-set sizes are unequal.\n",
      "  DeprecationWarning)\n"
     ]
    },
    {
     "data": {
      "text/plain": [
       "GridSearchCV(cv=5, error_score='raise-deprecating',\n",
       "             estimator=Pipeline(memory=None,\n",
       "                                steps=[('selectkbest',\n",
       "                                        SelectKBest(k='all',\n",
       "                                                    score_func=<function f_classif at 0x1a20892400>)),\n",
       "                                       ('variancethreshold',\n",
       "                                        VarianceThreshold(threshold=0.0)),\n",
       "                                       ('standardscaler',\n",
       "                                        StandardScaler(copy=True,\n",
       "                                                       with_mean=True,\n",
       "                                                       with_std=True)),\n",
       "                                       ('logisticregression',\n",
       "                                        LogisticRegression(C=1.0,\n",
       "                                                           clas...\n",
       "                                                           max_iter=1000,\n",
       "                                                           multi_class='auto',\n",
       "                                                           n_jobs=None,\n",
       "                                                           penalty='l2',\n",
       "                                                           random_state=None,\n",
       "                                                           solver='lbfgs',\n",
       "                                                           tol=0.0001,\n",
       "                                                           verbose=0,\n",
       "                                                           warm_start=False))],\n",
       "                                verbose=False),\n",
       "             iid='warn', n_jobs=None,\n",
       "             param_grid={'logisticregression__C': array([1.e-04, 1.e-03, 1.e-02, 1.e-01, 1.e+00, 1.e+01, 1.e+02, 1.e+03,\n",
       "       1.e+04])},\n",
       "             pre_dispatch='2*n_jobs', refit=True, return_train_score=False,\n",
       "             scoring=None, verbose=0)"
      ]
     },
     "execution_count": 63,
     "metadata": {},
     "output_type": "execute_result"
    }
   ],
   "source": [
    "# Then we fit as normal\n",
    "log_reg_iris.fit(iris_X_train, iris_y_train)"
   ]
  },
  {
   "cell_type": "code",
   "execution_count": 64,
   "metadata": {
    "hidden": true
   },
   "outputs": [
    {
     "data": {
      "text/plain": [
       "0.9736842105263158"
      ]
     },
     "execution_count": 64,
     "metadata": {},
     "output_type": "execute_result"
    }
   ],
   "source": [
    "log_reg_iris.score(iris_X_test, iris_y_test)"
   ]
  },
  {
   "cell_type": "code",
   "execution_count": 65,
   "metadata": {
    "hidden": true
   },
   "outputs": [],
   "source": [
    "iris_log_reg_y_pred = log_reg_iris.predict(iris_X_test)\n",
    "iris_log_reg_y_scores = log_reg_iris.predict_proba(iris_X_test)"
   ]
  },
  {
   "cell_type": "markdown",
   "metadata": {
    "hidden": true
   },
   "source": [
    "It's as simple as that. <br>\n",
    "\n",
    "[Scikit-Learn Pipeline Guide](https://scikit-learn.org/stable/modules/compose.html)"
   ]
  },
  {
   "cell_type": "markdown",
   "metadata": {
    "heading_collapsed": true
   },
   "source": [
    "#### Pipelines as objects\n",
    "\n",
    "Pipelines are objects, let's say we want to change the final step to SVM rather than Logistic, this is one way."
   ]
  },
  {
   "cell_type": "code",
   "execution_count": 66,
   "metadata": {
    "hidden": true
   },
   "outputs": [],
   "source": [
    "from sklearn.svm import SVC\n",
    "svm_pipe = clone(log_reg_pipe)"
   ]
  },
  {
   "cell_type": "markdown",
   "metadata": {
    "hidden": true
   },
   "source": [
    "We can access the steps in a pipelines two ways: <br>\n",
    "`.named_steps` gives a dictionary. <br>\n",
    "`.steps` gives a series of tuples."
   ]
  },
  {
   "cell_type": "code",
   "execution_count": 67,
   "metadata": {
    "hidden": true
   },
   "outputs": [
    {
     "data": {
      "text/plain": [
       "{'selectkbest': SelectKBest(k='all', score_func=<function f_classif at 0x1a20892400>),\n",
       " 'variancethreshold': VarianceThreshold(threshold=0.0),\n",
       " 'standardscaler': StandardScaler(copy=True, with_mean=True, with_std=True),\n",
       " 'logisticregression': LogisticRegression(C=1.0, class_weight=None, dual=False, fit_intercept=True,\n",
       "                    intercept_scaling=1, l1_ratio=None, max_iter=100,\n",
       "                    multi_class='warn', n_jobs=None, penalty='l2',\n",
       "                    random_state=None, solver='lbfgs', tol=0.0001, verbose=0,\n",
       "                    warm_start=False)}"
      ]
     },
     "execution_count": 67,
     "metadata": {},
     "output_type": "execute_result"
    }
   ],
   "source": [
    "svm_pipe.named_steps"
   ]
  },
  {
   "cell_type": "code",
   "execution_count": 68,
   "metadata": {
    "hidden": true
   },
   "outputs": [
    {
     "data": {
      "text/plain": [
       "('logisticregression',\n",
       " LogisticRegression(C=1.0, class_weight=None, dual=False, fit_intercept=True,\n",
       "                    intercept_scaling=1, l1_ratio=None, max_iter=100,\n",
       "                    multi_class='warn', n_jobs=None, penalty='l2',\n",
       "                    random_state=None, solver='lbfgs', tol=0.0001, verbose=0,\n",
       "                    warm_start=False))"
      ]
     },
     "execution_count": 68,
     "metadata": {},
     "output_type": "execute_result"
    }
   ],
   "source": [
    "svm_pipe.steps[-1]"
   ]
  },
  {
   "cell_type": "markdown",
   "metadata": {
    "hidden": true
   },
   "source": [
    "Now I'm redefining the last step in the pipeline."
   ]
  },
  {
   "cell_type": "code",
   "execution_count": 69,
   "metadata": {
    "hidden": true
   },
   "outputs": [],
   "source": [
    "svm_pipe.steps[-1] = ('svc', SVC(random_state=0, verbose=True))"
   ]
  },
  {
   "cell_type": "markdown",
   "metadata": {
    "hidden": true
   },
   "source": [
    "We can see now that the pipeline has changed."
   ]
  },
  {
   "cell_type": "code",
   "execution_count": 70,
   "metadata": {
    "hidden": true
   },
   "outputs": [
    {
     "data": {
      "text/plain": [
       "{'selectkbest': SelectKBest(k='all', score_func=<function f_classif at 0x1a20892400>),\n",
       " 'variancethreshold': VarianceThreshold(threshold=0.0),\n",
       " 'standardscaler': StandardScaler(copy=True, with_mean=True, with_std=True),\n",
       " 'svc': SVC(C=1.0, cache_size=200, class_weight=None, coef0=0.0,\n",
       "     decision_function_shape='ovr', degree=3, gamma='auto_deprecated',\n",
       "     kernel='rbf', max_iter=-1, probability=False, random_state=0,\n",
       "     shrinking=True, tol=0.001, verbose=True)}"
      ]
     },
     "execution_count": 70,
     "metadata": {},
     "output_type": "execute_result"
    }
   ],
   "source": [
    "svm_pipe.named_steps"
   ]
  },
  {
   "cell_type": "code",
   "execution_count": 71,
   "metadata": {
    "hidden": true
   },
   "outputs": [
    {
     "name": "stdout",
     "output_type": "stream",
     "text": [
      "[LibSVM][LibSVM][LibSVM][LibSVM]"
     ]
    },
    {
     "name": "stderr",
     "output_type": "stream",
     "text": [
      "/Users/Daniel/anaconda3/envs/python-workshops/lib/python3.6/site-packages/sklearn/model_selection/_search.py:813: DeprecationWarning: The default of the `iid` parameter will change from True to False in version 0.22 and will be removed in 0.24. This will change numeric results when test-set sizes are unequal.\n",
      "  DeprecationWarning)\n"
     ]
    },
    {
     "data": {
      "text/plain": [
       "GridSearchCV(cv=3, error_score='raise-deprecating',\n",
       "             estimator=Pipeline(memory=None,\n",
       "                                steps=[('selectkbest',\n",
       "                                        SelectKBest(k='all',\n",
       "                                                    score_func=<function f_classif at 0x1a20892400>)),\n",
       "                                       ('variancethreshold',\n",
       "                                        VarianceThreshold(threshold=0.0)),\n",
       "                                       ('standardscaler',\n",
       "                                        StandardScaler(copy=True,\n",
       "                                                       with_mean=True,\n",
       "                                                       with_std=True)),\n",
       "                                       ('svc',\n",
       "                                        SVC(C=1.0, cache_size=200,\n",
       "                                            class_weight=None, c...\n",
       "                                            decision_function_shape='ovr',\n",
       "                                            degree=3, gamma='auto_deprecated',\n",
       "                                            kernel='rbf', max_iter=-1,\n",
       "                                            probability=False, random_state=0,\n",
       "                                            shrinking=True, tol=0.001,\n",
       "                                            verbose=True))],\n",
       "                                verbose=False),\n",
       "             iid='warn', n_jobs=None,\n",
       "             param_grid={'svc__C': [0.1], 'svc__gamma': [0.001],\n",
       "                         'svc__kernel': ['rbf']},\n",
       "             pre_dispatch='2*n_jobs', refit=True, return_train_score=False,\n",
       "             scoring=None, verbose=0)"
      ]
     },
     "execution_count": 71,
     "metadata": {},
     "output_type": "execute_result"
    }
   ],
   "source": [
    "svm_pg = {\"svc__kernel\": ['rbf']\n",
    "         ,\"svc__C\": [0.1]\n",
    "         ,\"svc__gamma\": [0.001]}\n",
    "\n",
    "svm_iris = GridSearchCV(cv = 3, estimator = svm_pipe, param_grid= svm_pg)\n",
    "svm_iris.fit(iris_X_train, iris_y_train.ravel())"
   ]
  },
  {
   "cell_type": "code",
   "execution_count": 72,
   "metadata": {
    "hidden": true
   },
   "outputs": [],
   "source": [
    "svm_iris.score(iris_X_test, iris_y_test)\n",
    "iris_svm_y_pred = svm_iris.predict(iris_X_test)"
   ]
  },
  {
   "cell_type": "markdown",
   "metadata": {
    "heading_collapsed": true
   },
   "source": [
    "### Complex pipelines\n",
    "What happens when we want to apply different pipelines to different columns of our data? <br>"
   ]
  },
  {
   "cell_type": "markdown",
   "metadata": {
    "hidden": true
   },
   "source": [
    "<img style=\"float: left;\" src=\"images/complex_pipelines.gif\">"
   ]
  },
  {
   "cell_type": "code",
   "execution_count": 33,
   "metadata": {
    "hidden": true
   },
   "outputs": [],
   "source": [
    "import numpy as np\n",
    "from sklearn.pipeline import make_pipeline\n",
    "from sklearn.feature_selection import SelectFromModel\n",
    "from sklearn.compose import make_column_transformer\n",
    "from sklearn.impute import SimpleImputer\n",
    "from sklearn.ensemble import RandomForestClassifier\n",
    "from sklearn.preprocessing import StandardScaler\n",
    "from sklearn.linear_model import LogisticRegressionCV\n",
    "# Categorical Columns\n",
    "fill_to_zero = [0]\n",
    "# Define steps in pipeline\n",
    "cat_pipe = make_pipeline(SimpleImputer(strategy=\"constant\", fill_value=0))"
   ]
  },
  {
   "cell_type": "code",
   "execution_count": 34,
   "metadata": {
    "hidden": true
   },
   "outputs": [],
   "source": [
    "preprocessing = make_column_transformer((cat_pipe, fill_to_zero), remainder=\"passthrough\")"
   ]
  },
  {
   "cell_type": "markdown",
   "metadata": {
    "hidden": true
   },
   "source": [
    "The below is a lot to take in, let's take it step by step. <br>\n",
    "* First we use C_base and C_list to create a list of potential `C` that we will grid search over. <br>\n",
    "`C` is the inverse of the regularisation strength. <br>\n",
    "* Then the pipeline begins, we run the data through the \"preprocessing\" pipeline defined above. <br>\n",
    "* Then we impute with the median. <br>\n",
    "* Then we run the data through a Random Forest to see what the feature importances are. <br>\n",
    "* Only the top 20 features progress to the next stage. This can be useful when dealing with hundreds of features. <br>\n",
    "* Next all values are scaled such that the mean is 0 and the variance is 1 (unit variance). <br>\n",
    "* Finally the data is run through `LogisticRegressionCV`, think of this as `LogisticRegression` combined with `GridSearchCV`, this approach can be quicker due to a backend phenonmenon called *warm starting* (using the previous solution as an initialization for the following fit)."
   ]
  },
  {
   "cell_type": "code",
   "execution_count": 35,
   "metadata": {
    "hidden": true
   },
   "outputs": [],
   "source": [
    "C_base = 4\n",
    "C_list = np.logspace(-C_base, +C_base, num=(2 * C_base) + 1)\n",
    "lr_pipe = make_pipeline(\n",
    "    preprocessing,\n",
    "    SimpleImputer(strategy=\"median\"),\n",
    "    SelectFromModel(RandomForestClassifier(random_state=0, n_estimators=20)),\n",
    "    StandardScaler(),  # Adding in a standard scaling step, relative to the dtc section.\n",
    "    LogisticRegressionCV(random_state=0, solver=\"saga\", cv=5, penalty=\"l1\", class_weight=\"balanced\", scoring=\"accuracy\", max_iter=10000, n_jobs=-1, multi_class='ovr')\n",
    ")"
   ]
  },
  {
   "cell_type": "code",
   "execution_count": 73,
   "metadata": {
    "hidden": true
   },
   "outputs": [
    {
     "data": {
      "text/plain": [
       "Pipeline(memory=None,\n",
       "         steps=[('columntransformer',\n",
       "                 ColumnTransformer(n_jobs=None, remainder='passthrough',\n",
       "                                   sparse_threshold=0.3,\n",
       "                                   transformer_weights=None,\n",
       "                                   transformers=[('pipeline',\n",
       "                                                  Pipeline(memory=None,\n",
       "                                                           steps=[('simpleimputer',\n",
       "                                                                   SimpleImputer(add_indicator=False,\n",
       "                                                                                 copy=True,\n",
       "                                                                                 fill_value=0,\n",
       "                                                                                 missing_values=nan,\n",
       "                                                                                 strategy='constant',\n",
       "                                                                                 verbose=0))],\n",
       "                                                           verbose=False),\n",
       "                                                  [0])],...\n",
       "                 StandardScaler(copy=True, with_mean=True, with_std=True)),\n",
       "                ('logisticregressioncv',\n",
       "                 LogisticRegressionCV(Cs=10, class_weight='balanced', cv=5,\n",
       "                                      dual=False, fit_intercept=True,\n",
       "                                      intercept_scaling=1.0, l1_ratios=None,\n",
       "                                      max_iter=10000, multi_class='ovr',\n",
       "                                      n_jobs=-1, penalty='l1', random_state=0,\n",
       "                                      refit=True, scoring='accuracy',\n",
       "                                      solver='saga', tol=0.0001, verbose=0))],\n",
       "         verbose=False)"
      ]
     },
     "execution_count": 73,
     "metadata": {},
     "output_type": "execute_result"
    }
   ],
   "source": [
    "lr_pipe.fit(iris_X_train, iris_y_train.ravel())"
   ]
  },
  {
   "cell_type": "code",
   "execution_count": 74,
   "metadata": {},
   "outputs": [
    {
     "data": {
      "text/plain": [
       "array([1, 0, 2, 2, 0, 2, 1, 1, 0, 0, 0, 0, 0, 2, 0, 1, 1, 2, 1, 0, 0, 2,\n",
       "       1, 2, 0, 0, 1, 2, 1, 0, 1, 0, 2, 1, 2, 1, 0, 2, 2, 0, 1, 0, 1, 0,\n",
       "       2, 1, 2, 0, 2, 0, 0, 2, 1, 1, 1, 2, 0, 2, 2, 1, 1, 0, 1, 1, 2, 0,\n",
       "       0, 0, 2, 0, 1, 1, 0, 0, 2, 2, 0, 0, 2, 0, 1, 0, 1, 2, 1, 0, 2, 1,\n",
       "       2, 0, 2, 2, 0, 2, 1, 2, 1, 1, 1, 1, 0, 2, 1, 2, 0, 2, 2, 2, 1, 1,\n",
       "       1, 2])"
      ]
     },
     "execution_count": 74,
     "metadata": {},
     "output_type": "execute_result"
    }
   ],
   "source": [
    "iris_y_train"
   ]
  },
  {
   "cell_type": "code",
   "execution_count": 75,
   "metadata": {},
   "outputs": [
    {
     "data": {
      "text/plain": [
       "(112, 4)"
      ]
     },
     "execution_count": 75,
     "metadata": {},
     "output_type": "execute_result"
    }
   ],
   "source": [
    "iris_X_train.shape"
   ]
  },
  {
   "cell_type": "code",
   "execution_count": 76,
   "metadata": {
    "hidden": true
   },
   "outputs": [
    {
     "name": "stderr",
     "output_type": "stream",
     "text": [
      "/Users/Daniel/anaconda3/envs/python-workshops/lib/python3.6/site-packages/sklearn/linear_model/logistic.py:2257: ChangedBehaviorWarning: The long-standing behavior to use the accuracy score has changed. The scoring parameter is now used. This warning will disappear in version 0.22.\n",
      "  ChangedBehaviorWarning)\n"
     ]
    },
    {
     "data": {
      "text/plain": [
       "0.9210526315789473"
      ]
     },
     "execution_count": 76,
     "metadata": {},
     "output_type": "execute_result"
    }
   ],
   "source": [
    "lr_pipe.score(iris_X_test, iris_y_test)"
   ]
  },
  {
   "cell_type": "markdown",
   "metadata": {
    "hidden": true
   },
   "source": [
    "**A quick note on feature names**\n",
    "So we've applied a lot of steps here.\n",
    "But interpretability is important, so it would be good to know what features went into the final step.\n",
    "\n",
    "A simple `pipeline.get_feature_names()` is not yet implemented in scikit-learn. <br>\n",
    "But the pipeline above is not too long, so we can do this manually.\n",
    "\n",
    "Below is an example that works for a pipeline with many features, I'll talk through how each step works, but first here's the example pipeline.\n",
    "\n",
    "**Preprocessing pipeline**\n",
    "\n",
    "```\n",
    "# Categorical Columns\n",
    "categoric_variables = [\"CTM_PREMIER_QUALIFICATION\"]\n",
    "# Define steps in pipeline\n",
    "cat_pipe = make_pipeline(SimpleImputer(strategy=\"constant\", fill_value=\"0\"), OneHotEncoder(handle_unknown=\"ignore\"))\n",
    "\n",
    "\n",
    "# Column transformer to deal with the categoric variable\n",
    "preprocessing = make_column_transformer((cat_pipe, categoric_variables), remainder=\"passthrough\")\n",
    "\n",
    "```"
   ]
  },
  {
   "cell_type": "markdown",
   "metadata": {
    "hidden": true
   },
   "source": [
    "**Random Forest Pipeline**\n",
    "\n",
    "```\n",
    "# Random Forest\n",
    "`rf_pipe = make_pipeline(preprocessing\n",
    "                        ,SimpleImputer(strategy=\"median\")\n",
    "                        ,VarianceThreshold()\n",
    "                        ,RandomForestClassifier(random_state=0))\n",
    "rf_parameters = {\"randomforestclassifier__class_weight\": [\"balanced\"]\n",
    "                ,\"randomforestclassifier__n_estimators\": [20, 50, 70, 100]}\n",
    "                \n",
    "rf_gs = GridSearchCV(rf_pipe\n",
    "                    ,param_grid = rf_parameters\n",
    "                    ,scoring=scoring_list\n",
    "                    ,refit=\"roc_auc\"\n",
    "                    ,return_train_score=False\n",
    "                    ,cv=5)\n",
    "```\n",
    "\n",
    "\n",
    "```\n",
    "feature_names = list(pipe.named_steps.columntransformer.named_transformers_.pipeline.named_steps.onehotencoder.get_feature_name(categoric_variables)) +\n",
    "[column for column in X.columns if column not in categoric_variables]\n",
    "\n",
    "feature_names = [list(feature_names)[i] for i in pipe.named_steps.variancethreshold.get_support(indices=True)]\n",
    "```"
   ]
  },
  {
   "cell_type": "markdown",
   "metadata": {
    "heading_collapsed": true
   },
   "source": [
    "### Useful Packages"
   ]
  },
  {
   "cell_type": "code",
   "execution_count": 77,
   "metadata": {
    "hidden": true
   },
   "outputs": [
    {
     "data": {
      "text/html": [
       "\n",
       "    <style>\n",
       "    table.eli5-weights tr:hover {\n",
       "        filter: brightness(85%);\n",
       "    }\n",
       "</style>\n",
       "\n",
       "\n",
       "\n",
       "    \n",
       "\n",
       "    \n",
       "\n",
       "    \n",
       "\n",
       "    \n",
       "\n",
       "    \n",
       "\n",
       "    \n",
       "\n",
       "\n",
       "    \n",
       "\n",
       "    \n",
       "\n",
       "    \n",
       "\n",
       "    \n",
       "        \n",
       "\n",
       "    \n",
       "        <table class=\"eli5-weights-wrapper\" style=\"border-collapse: collapse; border: none; margin-bottom: 1.5em;\">\n",
       "            <tr>\n",
       "                \n",
       "                    <td style=\"padding: 0.5em; border: 1px solid black; text-align: center;\">\n",
       "                        <b>\n",
       "    \n",
       "        y=0\n",
       "    \n",
       "</b>\n",
       "\n",
       "top features\n",
       "                    </td>\n",
       "                \n",
       "                    <td style=\"padding: 0.5em; border: 1px solid black; text-align: center;\">\n",
       "                        <b>\n",
       "    \n",
       "        y=1\n",
       "    \n",
       "</b>\n",
       "\n",
       "top features\n",
       "                    </td>\n",
       "                \n",
       "                    <td style=\"padding: 0.5em; border: 1px solid black; text-align: center;\">\n",
       "                        <b>\n",
       "    \n",
       "        y=2\n",
       "    \n",
       "</b>\n",
       "\n",
       "top features\n",
       "                    </td>\n",
       "                \n",
       "            </tr>\n",
       "            <tr>\n",
       "                \n",
       "                    \n",
       "                        <td style=\"padding: 0px; border: 1px solid black; vertical-align: top;\">\n",
       "                            \n",
       "                                \n",
       "                                    \n",
       "                                    \n",
       "    \n",
       "    <table class=\"eli5-weights\"\n",
       "           style=\"border-collapse: collapse; border: none; margin-top: 0em; table-layout: auto; width: 100%;\">\n",
       "        <thead>\n",
       "        <tr style=\"border: none;\">\n",
       "            \n",
       "                <th style=\"padding: 0 1em 0 0.5em; text-align: right; border: none;\" title=\"Feature weights. Note that weights do not account for feature value scales, so if feature values have different scales, features with highest weights might not be the most important.\">\n",
       "                    Weight<sup>?</sup>\n",
       "                </th>\n",
       "            \n",
       "            <th style=\"padding: 0 0.5em 0 0.5em; text-align: left; border: none;\">Feature</th>\n",
       "            \n",
       "        </tr>\n",
       "        </thead>\n",
       "        <tbody>\n",
       "        \n",
       "            <tr style=\"background-color: hsl(120, 100.00%, 90.60%); border: none;\">\n",
       "    <td style=\"padding: 0 1em 0 0.5em; text-align: right; border: none;\">\n",
       "        +1.704\n",
       "    </td>\n",
       "    <td style=\"padding: 0 0.5em 0 0.5em; text-align: left; border: none;\">\n",
       "        x1\n",
       "    </td>\n",
       "    \n",
       "</tr>\n",
       "        \n",
       "            <tr style=\"background-color: hsl(120, 100.00%, 98.40%); border: none;\">\n",
       "    <td style=\"padding: 0 1em 0 0.5em; text-align: right; border: none;\">\n",
       "        +0.135\n",
       "    </td>\n",
       "    <td style=\"padding: 0 0.5em 0 0.5em; text-align: left; border: none;\">\n",
       "        &lt;BIAS&gt;\n",
       "    </td>\n",
       "    \n",
       "</tr>\n",
       "        \n",
       "        \n",
       "\n",
       "        \n",
       "        \n",
       "            <tr style=\"background-color: hsl(0, 100.00%, 91.22%); border: none;\">\n",
       "    <td style=\"padding: 0 1em 0 0.5em; text-align: right; border: none;\">\n",
       "        -1.544\n",
       "    </td>\n",
       "    <td style=\"padding: 0 0.5em 0 0.5em; text-align: left; border: none;\">\n",
       "        x0\n",
       "    </td>\n",
       "    \n",
       "</tr>\n",
       "        \n",
       "            <tr style=\"background-color: hsl(0, 100.00%, 85.57%); border: none;\">\n",
       "    <td style=\"padding: 0 1em 0 0.5em; text-align: right; border: none;\">\n",
       "        -3.140\n",
       "    </td>\n",
       "    <td style=\"padding: 0 0.5em 0 0.5em; text-align: left; border: none;\">\n",
       "        x3\n",
       "    </td>\n",
       "    \n",
       "</tr>\n",
       "        \n",
       "            <tr style=\"background-color: hsl(0, 100.00%, 84.29%); border: none;\">\n",
       "    <td style=\"padding: 0 1em 0 0.5em; text-align: right; border: none;\">\n",
       "        -3.546\n",
       "    </td>\n",
       "    <td style=\"padding: 0 0.5em 0 0.5em; text-align: left; border: none;\">\n",
       "        x2\n",
       "    </td>\n",
       "    \n",
       "</tr>\n",
       "        \n",
       "\n",
       "        </tbody>\n",
       "    </table>\n",
       "\n",
       "                                \n",
       "                            \n",
       "                        </td>\n",
       "                    \n",
       "                        <td style=\"padding: 0px; border: 1px solid black; vertical-align: top;\">\n",
       "                            \n",
       "                                \n",
       "                                    \n",
       "                                    \n",
       "    \n",
       "    <table class=\"eli5-weights\"\n",
       "           style=\"border-collapse: collapse; border: none; margin-top: 0em; table-layout: auto; width: 100%;\">\n",
       "        <thead>\n",
       "        <tr style=\"border: none;\">\n",
       "            \n",
       "                <th style=\"padding: 0 1em 0 0.5em; text-align: right; border: none;\" title=\"Feature weights. Note that weights do not account for feature value scales, so if feature values have different scales, features with highest weights might not be the most important.\">\n",
       "                    Weight<sup>?</sup>\n",
       "                </th>\n",
       "            \n",
       "            <th style=\"padding: 0 0.5em 0 0.5em; text-align: left; border: none;\">Feature</th>\n",
       "            \n",
       "        </tr>\n",
       "        </thead>\n",
       "        <tbody>\n",
       "        \n",
       "            <tr style=\"background-color: hsl(120, 100.00%, 83.50%); border: none;\">\n",
       "    <td style=\"padding: 0 1em 0 0.5em; text-align: right; border: none;\">\n",
       "        +3.806\n",
       "    </td>\n",
       "    <td style=\"padding: 0 0.5em 0 0.5em; text-align: left; border: none;\">\n",
       "        &lt;BIAS&gt;\n",
       "    </td>\n",
       "    \n",
       "</tr>\n",
       "        \n",
       "            <tr style=\"background-color: hsl(120, 100.00%, 92.97%); border: none;\">\n",
       "    <td style=\"padding: 0 1em 0 0.5em; text-align: right; border: none;\">\n",
       "        +1.125\n",
       "    </td>\n",
       "    <td style=\"padding: 0 0.5em 0 0.5em; text-align: left; border: none;\">\n",
       "        x0\n",
       "    </td>\n",
       "    \n",
       "</tr>\n",
       "        \n",
       "        \n",
       "\n",
       "        \n",
       "        \n",
       "            <tr style=\"background-color: hsl(0, 100.00%, 97.35%); border: none;\">\n",
       "    <td style=\"padding: 0 1em 0 0.5em; text-align: right; border: none;\">\n",
       "        -0.279\n",
       "    </td>\n",
       "    <td style=\"padding: 0 0.5em 0 0.5em; text-align: left; border: none;\">\n",
       "        x1\n",
       "    </td>\n",
       "    \n",
       "</tr>\n",
       "        \n",
       "            <tr style=\"background-color: hsl(0, 100.00%, 92.47%); border: none;\">\n",
       "    <td style=\"padding: 0 1em 0 0.5em; text-align: right; border: none;\">\n",
       "        -1.241\n",
       "    </td>\n",
       "    <td style=\"padding: 0 0.5em 0 0.5em; text-align: left; border: none;\">\n",
       "        x3\n",
       "    </td>\n",
       "    \n",
       "</tr>\n",
       "        \n",
       "            <tr style=\"background-color: hsl(0, 100.00%, 91.55%); border: none;\">\n",
       "    <td style=\"padding: 0 1em 0 0.5em; text-align: right; border: none;\">\n",
       "        -1.462\n",
       "    </td>\n",
       "    <td style=\"padding: 0 0.5em 0 0.5em; text-align: left; border: none;\">\n",
       "        x2\n",
       "    </td>\n",
       "    \n",
       "</tr>\n",
       "        \n",
       "\n",
       "        </tbody>\n",
       "    </table>\n",
       "\n",
       "                                \n",
       "                            \n",
       "                        </td>\n",
       "                    \n",
       "                        <td style=\"padding: 0px; border: 1px solid black; vertical-align: top;\">\n",
       "                            \n",
       "                                \n",
       "                                    \n",
       "                                    \n",
       "    \n",
       "    <table class=\"eli5-weights\"\n",
       "           style=\"border-collapse: collapse; border: none; margin-top: 0em; table-layout: auto; width: 100%;\">\n",
       "        <thead>\n",
       "        <tr style=\"border: none;\">\n",
       "            \n",
       "                <th style=\"padding: 0 1em 0 0.5em; text-align: right; border: none;\" title=\"Feature weights. Note that weights do not account for feature value scales, so if feature values have different scales, features with highest weights might not be the most important.\">\n",
       "                    Weight<sup>?</sup>\n",
       "                </th>\n",
       "            \n",
       "            <th style=\"padding: 0 0.5em 0 0.5em; text-align: left; border: none;\">Feature</th>\n",
       "            \n",
       "        </tr>\n",
       "        </thead>\n",
       "        <tbody>\n",
       "        \n",
       "            <tr style=\"background-color: hsl(120, 100.00%, 80.00%); border: none;\">\n",
       "    <td style=\"padding: 0 1em 0 0.5em; text-align: right; border: none;\">\n",
       "        +5.008\n",
       "    </td>\n",
       "    <td style=\"padding: 0 0.5em 0 0.5em; text-align: left; border: none;\">\n",
       "        x2\n",
       "    </td>\n",
       "    \n",
       "</tr>\n",
       "        \n",
       "            <tr style=\"background-color: hsl(120, 100.00%, 81.79%); border: none;\">\n",
       "    <td style=\"padding: 0 1em 0 0.5em; text-align: right; border: none;\">\n",
       "        +4.381\n",
       "    </td>\n",
       "    <td style=\"padding: 0 0.5em 0 0.5em; text-align: left; border: none;\">\n",
       "        x3\n",
       "    </td>\n",
       "    \n",
       "</tr>\n",
       "        \n",
       "            <tr style=\"background-color: hsl(120, 100.00%, 96.48%); border: none;\">\n",
       "    <td style=\"padding: 0 1em 0 0.5em; text-align: right; border: none;\">\n",
       "        +0.418\n",
       "    </td>\n",
       "    <td style=\"padding: 0 0.5em 0 0.5em; text-align: left; border: none;\">\n",
       "        x0\n",
       "    </td>\n",
       "    \n",
       "</tr>\n",
       "        \n",
       "        \n",
       "\n",
       "        \n",
       "        \n",
       "            <tr style=\"background-color: hsl(0, 100.00%, 91.70%); border: none;\">\n",
       "    <td style=\"padding: 0 1em 0 0.5em; text-align: right; border: none;\">\n",
       "        -1.425\n",
       "    </td>\n",
       "    <td style=\"padding: 0 0.5em 0 0.5em; text-align: left; border: none;\">\n",
       "        x1\n",
       "    </td>\n",
       "    \n",
       "</tr>\n",
       "        \n",
       "            <tr style=\"background-color: hsl(0, 100.00%, 83.09%); border: none;\">\n",
       "    <td style=\"padding: 0 1em 0 0.5em; text-align: right; border: none;\">\n",
       "        -3.942\n",
       "    </td>\n",
       "    <td style=\"padding: 0 0.5em 0 0.5em; text-align: left; border: none;\">\n",
       "        &lt;BIAS&gt;\n",
       "    </td>\n",
       "    \n",
       "</tr>\n",
       "        \n",
       "\n",
       "        </tbody>\n",
       "    </table>\n",
       "\n",
       "                                \n",
       "                            \n",
       "                        </td>\n",
       "                    \n",
       "                \n",
       "            </tr>\n",
       "        </table>\n",
       "    \n",
       "\n",
       "    \n",
       "        \n",
       "\n",
       "\n",
       "    \n",
       "        \n",
       "\n",
       "\n",
       "    \n",
       "        \n",
       "\n",
       "\n",
       "    \n",
       "\n",
       "\n",
       "    \n",
       "\n",
       "    \n",
       "\n",
       "    \n",
       "\n",
       "\n",
       "    \n",
       "\n",
       "    \n",
       "\n",
       "    \n",
       "\n",
       "    \n",
       "\n",
       "    \n",
       "\n",
       "    \n",
       "\n",
       "\n",
       "    \n",
       "\n",
       "    \n",
       "\n",
       "    \n",
       "\n",
       "    \n",
       "\n",
       "    \n",
       "\n",
       "    \n",
       "\n",
       "\n",
       "\n"
      ],
      "text/plain": [
       "Explanation(estimator=\"LogisticRegression(C=10.0, class_weight=None, dual=False, fit_intercept=True,\\n                   intercept_scaling=1, l1_ratio=None, max_iter=1000,\\n                   multi_class='auto', n_jobs=None, penalty='l2',\\n                   random_state=None, solver='lbfgs', tol=0.0001, verbose=0,\\n                   warm_start=False)\", description=\"\\nFeatures with largest coefficients per class.\\nCaveats:\\n1. Be careful with features which are not\\n   independent - weights don't show their importance.\\n2. If scale of input features is different then scale of coefficients\\n   will also be different, making direct comparison between coefficient values\\n   incorrect.\\n3. Depending on regularization, rare features sometimes may have high\\n   coefficients; this doesn't mean they contribute much to the\\n   classification result for most examples.\\n\", error=None, method='linear model', is_regression=False, targets=[TargetExplanation(target=0, feature_weights=FeatureWeights(pos=[FeatureWeight(feature='x1', weight=1.704316910883914, std=None, value=None), FeatureWeight(feature='<BIAS>', weight=0.1352086483325525, std=None, value=None)], neg=[FeatureWeight(feature='x2', weight=-3.5460543707458787, std=None, value=None), FeatureWeight(feature='x3', weight=-3.140335985149176, std=None, value=None), FeatureWeight(feature='x0', weight=-1.5437646266999432, std=None, value=None)], pos_remaining=0, neg_remaining=0), proba=None, score=None, weighted_spans=None), TargetExplanation(target=1, feature_weights=FeatureWeights(pos=[FeatureWeight(feature='<BIAS>', weight=3.8063117203639667, std=None, value=None), FeatureWeight(feature='x0', weight=1.1253197885514878, std=None, value=None)], neg=[FeatureWeight(feature='x2', weight=-1.4621080452121074, std=None, value=None), FeatureWeight(feature='x3', weight=-1.2411064763867605, std=None, value=None), FeatureWeight(feature='x1', weight=-0.27920815642794006, std=None, value=None)], pos_remaining=0, neg_remaining=0), proba=None, score=None, weighted_spans=None), TargetExplanation(target=2, feature_weights=FeatureWeights(pos=[FeatureWeight(feature='x2', weight=5.008162415957966, std=None, value=None), FeatureWeight(feature='x3', weight=4.381442461535928, std=None, value=None), FeatureWeight(feature='x0', weight=0.41844483814842254, std=None, value=None)], neg=[FeatureWeight(feature='<BIAS>', weight=-3.941520368696454, std=None, value=None), FeatureWeight(feature='x1', weight=-1.4251087544559822, std=None, value=None)], pos_remaining=0, neg_remaining=0), proba=None, score=None, weighted_spans=None)], feature_importances=None, decision_tree=None, highlight_spaces=None, transition_features=None)"
      ]
     },
     "execution_count": 77,
     "metadata": {},
     "output_type": "execute_result"
    }
   ],
   "source": [
    "import eli5\n",
    "eli5.explain_weights_sklearn(log_reg_iris.best_estimator_.named_steps.logisticregression)"
   ]
  },
  {
   "cell_type": "code",
   "execution_count": 83,
   "metadata": {
    "hidden": true
   },
   "outputs": [
    {
     "data": {
      "text/plain": [
       "<matplotlib.axes._subplots.AxesSubplot at 0x1a2401b9e8>"
      ]
     },
     "execution_count": 83,
     "metadata": {},
     "output_type": "execute_result"
    },
    {
     "data": {
      "image/png": "[encoded data removed]",
      "text/plain": [
       "<Figure size 432x288 with 2 Axes>"
      ]
     },
     "metadata": {
      "needs_background": "light"
     },
     "output_type": "display_data"
    },
    {
     "data": {
      "image/png": "[encoded data removed]",
      "text/plain": [
       "<Figure size 432x288 with 1 Axes>"
      ]
     },
     "metadata": {
      "needs_background": "light"
     },
     "output_type": "display_data"
    },
    {
     "data": {
      "image/png": "[encoded data removed]",
      "text/plain": [
       "<Figure size 432x288 with 1 Axes>"
      ]
     },
     "metadata": {
      "needs_background": "light"
     },
     "output_type": "display_data"
    }
   ],
   "source": [
    "from scikitplot.metrics import plot_confusion_matrix, plot_roc, plot_cumulative_gain\n",
    "plot_confusion_matrix(iris_y_test, iris_log_reg_y_pred)\n",
    "plot_roc(iris_y_test, iris_log_reg_y_scores, title = 'my fake roc curve ¯\\_(-_-)_/¯', plot_micro = False, plot_macro = False)\n",
    "plot_cumulative_gain(y_test, logreg_cv_y_scores)"
   ]
  },
  {
   "cell_type": "code",
   "execution_count": 85,
   "metadata": {
    "hidden": true,
    "scrolled": false
   },
   "outputs": [
    {
     "data": {
      "text/plain": [
       "<matplotlib.axes._subplots.AxesSubplot at 0x1a23665630>"
      ]
     },
     "execution_count": 85,
     "metadata": {},
     "output_type": "execute_result"
    },
    {
     "data": {
      "image/png": "[encoded data removed]",
      "text/plain": [
       "<Figure size 432x288 with 1 Axes>"
      ]
     },
     "metadata": {
      "needs_background": "light"
     },
     "output_type": "display_data"
    }
   ],
   "source": [
    "test = plt.axes()\n",
    "\n",
    "plot_roc(iris_y_test, iris_log_reg_y_scores, ax = test, plot_macro = False, plot_micro = False)\n",
    "plot_roc(y_test, logreg_cv_y_scores, ax = test, plot_macro = False, plot_micro = False)"
   ]
  },
  {
   "cell_type": "code",
   "execution_count": null,
   "metadata": {},
   "outputs": [],
   "source": []
  },
  {
   "cell_type": "code",
   "execution_count": null,
   "metadata": {},
   "outputs": [],
   "source": []
  }
 ],
 "metadata": {
  "kernelspec": {
   "display_name": "Python [conda env:python-workshops]",
   "language": "python",
   "name": "conda-env-python-workshops-py"
  },
  "language_info": {
   "codemirror_mode": {
    "name": "ipython",
    "version": 3
   },
   "file_extension": ".py",
   "mimetype": "text/x-python",
   "name": "python",
   "nbconvert_exporter": "python",
   "pygments_lexer": "ipython3",
   "version": "3.6.9"
  },
  "toc": {
   "base_numbering": 1,
   "nav_menu": {},
   "number_sections": true,
   "sideBar": true,
   "skip_h1_title": false,
   "title_cell": "Table of Contents",
   "title_sidebar": "Contents",
   "toc_cell": false,
   "toc_position": {
    "height": "759px",
    "left": "40px",
    "top": "110px",
    "width": "165px"
   },
   "toc_section_display": true,
   "toc_window_display": true
  }
 },
 "nbformat": 4,
 "nbformat_minor": 2
}
