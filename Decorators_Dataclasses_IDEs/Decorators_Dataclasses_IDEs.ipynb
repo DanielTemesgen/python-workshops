{
 "cells": [
  {
   "cell_type": "markdown",
   "metadata": {
    "slideshow": {
     "slide_type": "skip"
    },
    "toc": true
   },
   "source": [
    "<h1>Table of Contents<span class=\"tocSkip\"></span></h1>\n",
    "<div class=\"toc\"><ul class=\"toc-item\"><li><span><a href=\"#Decorators,-Dataclasses-and-IDEs\" data-toc-modified-id=\"Decorators,-Dataclasses-and-IDEs\"><span class=\"toc-item-num\">1&nbsp;&nbsp;</span>Decorators, Dataclasses and IDEs</a></span><ul class=\"toc-item\"><li><span><a href=\"#Decorators\" data-toc-modified-id=\"Decorators-1.1\"><span class=\"toc-item-num\">1.1&nbsp;&nbsp;</span>Decorators</a></span><ul class=\"toc-item\"><li><span><a href=\"#Decorating-Functions\" data-toc-modified-id=\"Decorating-Functions-1.1.1\"><span class=\"toc-item-num\">1.1.1&nbsp;&nbsp;</span>Decorating Functions</a></span><ul class=\"toc-item\"><li><span><a href=\"#Basic-Example\" data-toc-modified-id=\"Basic-Example-1.1.1.1\"><span class=\"toc-item-num\">1.1.1.1&nbsp;&nbsp;</span>Basic Example</a></span></li><li><span><a href=\"#Timing-Decorator\" data-toc-modified-id=\"Timing-Decorator-1.1.1.2\"><span class=\"toc-item-num\">1.1.1.2&nbsp;&nbsp;</span>Timing Decorator</a></span></li><li><span><a href=\"#Logging-Decorator\" data-toc-modified-id=\"Logging-Decorator-1.1.1.3\"><span class=\"toc-item-num\">1.1.1.3&nbsp;&nbsp;</span>Logging Decorator</a></span></li></ul></li></ul></li><li><span><a href=\"#Decorating-classes\" data-toc-modified-id=\"Decorating-classes-1.2\"><span class=\"toc-item-num\">1.2&nbsp;&nbsp;</span>Decorating classes</a></span><ul class=\"toc-item\"><li><span><a href=\"#Decorating-the-whole-class\" data-toc-modified-id=\"Decorating-the-whole-class-1.2.1\"><span class=\"toc-item-num\">1.2.1&nbsp;&nbsp;</span>Decorating the whole class</a></span><ul class=\"toc-item\"><li><span><a href=\"#Decorating-a-method\" data-toc-modified-id=\"Decorating-a-method-1.2.1.1\"><span class=\"toc-item-num\">1.2.1.1&nbsp;&nbsp;</span>Decorating a method</a></span></li></ul></li></ul></li><li><span><a href=\"#Dataclasses\" data-toc-modified-id=\"Dataclasses-1.3\"><span class=\"toc-item-num\">1.3&nbsp;&nbsp;</span>Dataclasses</a></span><ul class=\"toc-item\"><li><span><a href=\"#Why?\" data-toc-modified-id=\"Why?-1.3.1\"><span class=\"toc-item-num\">1.3.1&nbsp;&nbsp;</span>Why?</a></span></li><li><span><a href=\"#Immutable-Dataclasses\" data-toc-modified-id=\"Immutable-Dataclasses-1.3.2\"><span class=\"toc-item-num\">1.3.2&nbsp;&nbsp;</span>Immutable Dataclasses</a></span></li></ul></li><li><span><a href=\"#The-advantages-of-IDEs\" data-toc-modified-id=\"The-advantages-of-IDEs-1.4\"><span class=\"toc-item-num\">1.4&nbsp;&nbsp;</span>The advantages of IDEs</a></span><ul class=\"toc-item\"><li><span><a href=\"#Sources\" data-toc-modified-id=\"Sources-1.4.1\"><span class=\"toc-item-num\">1.4.1&nbsp;&nbsp;</span>Sources</a></span></li></ul></li></ul></li></ul></div>"
   ]
  },
  {
   "cell_type": "markdown",
   "metadata": {
    "slideshow": {
     "slide_type": "slide"
    }
   },
   "source": [
    "# Decorators, Dataclasses and IDEs\n",
    "\n",
    "I'll talk through some common tips for writing cleaner code and common Python patterns."
   ]
  },
  {
   "cell_type": "markdown",
   "metadata": {
    "slideshow": {
     "slide_type": "slide"
    }
   },
   "source": [
    "## Decorators\n",
    "### Decorating Functions"
   ]
  },
  {
   "cell_type": "markdown",
   "metadata": {
    "slideshow": {
     "slide_type": "fragment"
    }
   },
   "source": [
    "#### Basic Example"
   ]
  },
  {
   "cell_type": "markdown",
   "metadata": {
    "slideshow": {
     "slide_type": "fragment"
    }
   },
   "source": [
    "We define a simple function which adds an exclamation to a string and returns it. <br>\n",
    "\n",
    "_There are often examples which start from functions which simply print to the console but for our purposes we will most likely be returning values, so let's start there._"
   ]
  },
  {
   "cell_type": "code",
   "execution_count": 1,
   "metadata": {
    "slideshow": {
     "slide_type": "fragment"
    }
   },
   "outputs": [],
   "source": [
    "def exclamation(string):\n",
    "    return string + \"!\""
   ]
  },
  {
   "cell_type": "code",
   "execution_count": 2,
   "metadata": {
    "slideshow": {
     "slide_type": "fragment"
    }
   },
   "outputs": [
    {
     "data": {
      "text/plain": [
       "'hello!'"
      ]
     },
     "execution_count": 2,
     "metadata": {},
     "output_type": "execute_result"
    }
   ],
   "source": [
    "exclamation('hello')"
   ]
  },
  {
   "cell_type": "markdown",
   "metadata": {
    "slideshow": {
     "slide_type": "slide"
    }
   },
   "source": [
    "Now let's define a decorator function which adds another exclamation mark."
   ]
  },
  {
   "cell_type": "code",
   "execution_count": 3,
   "metadata": {
    "slideshow": {
     "slide_type": "fragment"
    }
   },
   "outputs": [],
   "source": [
    "import functools\n",
    "def emphasis(func):\n",
    "    @functools.wraps(func) # optional\n",
    "    def wrapper(*args, **kwargs):\n",
    "        value = func(*args, **kwargs) # this value is the original \"hello!\"\n",
    "        return value + \"!\"         # let's add that \"!\"\n",
    "    # this wrapper_do_twice is a function...\n",
    "    # ...which takes a function and returns it's string return value, with an additional \"!\"\n",
    "    return wrapper"
   ]
  },
  {
   "cell_type": "code",
   "execution_count": 4,
   "metadata": {
    "slideshow": {
     "slide_type": "fragment"
    }
   },
   "outputs": [],
   "source": [
    "@emphasis\n",
    "def exclamation_exclamation(*args, **kwargs):\n",
    "    return exclamation(*args, **kwargs)"
   ]
  },
  {
   "cell_type": "code",
   "execution_count": 5,
   "metadata": {
    "slideshow": {
     "slide_type": "fragment"
    }
   },
   "outputs": [
    {
     "data": {
      "text/plain": [
       "'hello!'"
      ]
     },
     "execution_count": 5,
     "metadata": {},
     "output_type": "execute_result"
    }
   ],
   "source": [
    "exclamation('hello')"
   ]
  },
  {
   "cell_type": "code",
   "execution_count": 6,
   "metadata": {
    "scrolled": true,
    "slideshow": {
     "slide_type": "fragment"
    }
   },
   "outputs": [
    {
     "data": {
      "text/plain": [
       "'hello!!'"
      ]
     },
     "execution_count": 6,
     "metadata": {},
     "output_type": "execute_result"
    }
   ],
   "source": [
    "exclamation_exclamation(string = 'hello')"
   ]
  },
  {
   "cell_type": "markdown",
   "metadata": {
    "slideshow": {
     "slide_type": "fragment"
    }
   },
   "source": [
    "We see the extra exclamation mark!!"
   ]
  },
  {
   "cell_type": "markdown",
   "metadata": {
    "slideshow": {
     "slide_type": "slide"
    }
   },
   "source": [
    "Okay, we've had a lot of fun there but now we understand the basic concept let's move on to a more substantive example."
   ]
  },
  {
   "cell_type": "markdown",
   "metadata": {
    "slideshow": {
     "slide_type": "fragment"
    }
   },
   "source": [
    "#### Timing Decorator"
   ]
  },
  {
   "cell_type": "code",
   "execution_count": 7,
   "metadata": {
    "slideshow": {
     "slide_type": "fragment"
    }
   },
   "outputs": [],
   "source": [
    "import datetime\n",
    "\n",
    "def timing(func):\n",
    "    @functools.wraps(func)\n",
    "    def wrapper(*args, **kwargs):\n",
    "        start_time = datetime.datetime.now()\n",
    "        result = func(*args, **kwargs)\n",
    "        end_time = datetime.datetime.now()\n",
    "        time_string = \\\n",
    "f\"\"\"Function Name:\n",
    "{func.__name__}\n",
    "\n",
    "Args:\n",
    "{args, kwargs}\n",
    "\n",
    "Start Time:\n",
    "{start_time}\n",
    "\n",
    "End Time:\n",
    "{end_time}\n",
    "\n",
    "Time Taken:\n",
    "{(end_time-start_time).total_seconds()} seconds.\n",
    "\"\"\"\n",
    "        print(time_string)\n",
    "        return result\n",
    "    return wrapper"
   ]
  },
  {
   "cell_type": "code",
   "execution_count": 8,
   "metadata": {
    "slideshow": {
     "slide_type": "slide"
    }
   },
   "outputs": [
    {
     "data": {
      "text/plain": [
       "'hello!'"
      ]
     },
     "execution_count": 8,
     "metadata": {},
     "output_type": "execute_result"
    }
   ],
   "source": [
    "exclamation('hello')"
   ]
  },
  {
   "cell_type": "code",
   "execution_count": 9,
   "metadata": {
    "slideshow": {
     "slide_type": "fragment"
    }
   },
   "outputs": [],
   "source": [
    "@timing\n",
    "def exclamation_timed(string):\n",
    "    return string + \"!\""
   ]
  },
  {
   "cell_type": "code",
   "execution_count": 10,
   "metadata": {
    "slideshow": {
     "slide_type": "fragment"
    }
   },
   "outputs": [
    {
     "name": "stdout",
     "output_type": "stream",
     "text": [
      "Function Name:\n",
      "exclamation_timed\n",
      "\n",
      "Args:\n",
      "(('hello',), {})\n",
      "\n",
      "Start Time:\n",
      "2019-12-11 23:23:38.582135\n",
      "\n",
      "End Time:\n",
      "2019-12-11 23:23:38.582142\n",
      "\n",
      "Time Taken:\n",
      "7e-06 seconds.\n",
      "\n"
     ]
    },
    {
     "data": {
      "text/plain": [
       "'hello!'"
      ]
     },
     "execution_count": 10,
     "metadata": {},
     "output_type": "execute_result"
    }
   ],
   "source": [
    "exclamation_timed('hello')"
   ]
  },
  {
   "cell_type": "markdown",
   "metadata": {
    "slideshow": {
     "slide_type": "slide"
    }
   },
   "source": [
    "#### Logging Decorator"
   ]
  },
  {
   "cell_type": "markdown",
   "metadata": {
    "slideshow": {
     "slide_type": "fragment"
    }
   },
   "source": [
    "Decorator functions work best when you're centralising some form of complexity, this can increase readability and make subsequent refactoring easier.\n",
    "\n",
    "Now let's move to a more substantive example... logging!"
   ]
  },
  {
   "cell_type": "code",
   "execution_count": 11,
   "metadata": {
    "slideshow": {
     "slide_type": "slide"
    }
   },
   "outputs": [
    {
     "name": "stderr",
     "output_type": "stream",
     "text": [
      "2019-12-11 23:23:38,593 - This is an only an example warning - relax\n"
     ]
    }
   ],
   "source": [
    "import logging\n",
    "logger = logging.getLogger('example_logger')\n",
    "logging.basicConfig(format='%(asctime)s - %(message)s', level=logging.INFO)\n",
    "logger.warning('This is an only an example warning - relax')"
   ]
  },
  {
   "cell_type": "code",
   "execution_count": 12,
   "metadata": {
    "slideshow": {
     "slide_type": "fragment"
    }
   },
   "outputs": [],
   "source": [
    "def logging_decorator(func):\n",
    "    \"\"\"This decorator logs functions.\n",
    "    \"\"\"\n",
    "    @functools.wraps(func) # optional but recommended way of preserving func name and doc string.\n",
    "    def logged_function(*args, **kwargs):\n",
    "        \"\"\"This function is the logged function.\n",
    "        All it does is add the name of the function to the logging stream.\n",
    "        \"\"\"\n",
    "        logger.info(f'running {func.__name__}...')\n",
    "        return func(*args, **kwargs)\n",
    "    return logged_function"
   ]
  },
  {
   "cell_type": "code",
   "execution_count": 13,
   "metadata": {
    "slideshow": {
     "slide_type": "fragment"
    }
   },
   "outputs": [],
   "source": [
    "@logging_decorator\n",
    "def exclamation(string):\n",
    "    return string + \"!\""
   ]
  },
  {
   "cell_type": "code",
   "execution_count": 14,
   "metadata": {
    "slideshow": {
     "slide_type": "slide"
    }
   },
   "outputs": [
    {
     "name": "stderr",
     "output_type": "stream",
     "text": [
      "2019-12-11 23:23:38,619 - running exclamation...\n"
     ]
    },
    {
     "data": {
      "text/plain": [
       "'hello!'"
      ]
     },
     "execution_count": 14,
     "metadata": {},
     "output_type": "execute_result"
    }
   ],
   "source": [
    "exclamation('hello')"
   ]
  },
  {
   "cell_type": "code",
   "execution_count": 15,
   "metadata": {
    "slideshow": {
     "slide_type": "fragment"
    }
   },
   "outputs": [],
   "source": [
    "@logging_decorator\n",
    "def something_else(string):\n",
    "    \"\"\"Adds a question mark to a string and returns it.\"\"\"\n",
    "    return string + \"?\""
   ]
  },
  {
   "cell_type": "code",
   "execution_count": 16,
   "metadata": {
    "scrolled": true,
    "slideshow": {
     "slide_type": "fragment"
    }
   },
   "outputs": [
    {
     "name": "stderr",
     "output_type": "stream",
     "text": [
      "2019-12-11 23:23:38,637 - running something_else...\n"
     ]
    },
    {
     "data": {
      "text/plain": [
       "'hello?'"
      ]
     },
     "execution_count": 16,
     "metadata": {},
     "output_type": "execute_result"
    }
   ],
   "source": [
    "something_else('hello')"
   ]
  },
  {
   "cell_type": "markdown",
   "metadata": {
    "slideshow": {
     "slide_type": "slide"
    }
   },
   "source": [
    "We can do this because... functions in Python are themselves objects. <br> \n",
    "Therefore all functions inherit methods from the base function class. <br>\n",
    "Let's have a look at some of them."
   ]
  },
  {
   "cell_type": "code",
   "execution_count": 17,
   "metadata": {
    "slideshow": {
     "slide_type": "fragment"
    }
   },
   "outputs": [
    {
     "data": {
      "text/plain": [
       "function"
      ]
     },
     "execution_count": 17,
     "metadata": {},
     "output_type": "execute_result"
    }
   ],
   "source": [
    "something_else.__class__"
   ]
  },
  {
   "cell_type": "code",
   "execution_count": 18,
   "metadata": {
    "slideshow": {
     "slide_type": "fragment"
    }
   },
   "outputs": [
    {
     "data": {
      "text/plain": [
       "'something_else'"
      ]
     },
     "execution_count": 18,
     "metadata": {},
     "output_type": "execute_result"
    }
   ],
   "source": [
    "something_else.__name__"
   ]
  },
  {
   "cell_type": "code",
   "execution_count": 19,
   "metadata": {
    "slideshow": {
     "slide_type": "fragment"
    }
   },
   "outputs": [
    {
     "name": "stdout",
     "output_type": "stream",
     "text": [
      "You can even look at the docstring...\n",
      "Adds a question mark to a string and returns it.\n"
     ]
    }
   ],
   "source": [
    "print('You can even look at the docstring...')\n",
    "print(something_else.__doc__)"
   ]
  },
  {
   "cell_type": "markdown",
   "metadata": {
    "slideshow": {
     "slide_type": "slide"
    }
   },
   "source": [
    "## Decorating classes\n",
    "### Decorating the whole class"
   ]
  },
  {
   "cell_type": "markdown",
   "metadata": {
    "slideshow": {
     "slide_type": "fragment"
    }
   },
   "source": [
    "Let's see if we can take this up a level. <br>\n",
    "Often you'll be working with classes you have defined, so let's see how we can decorate these. <br>\n",
    "**Clue:** we'll be using similar private methods as we used for the function example just now."
   ]
  },
  {
   "cell_type": "code",
   "execution_count": 20,
   "metadata": {
    "slideshow": {
     "slide_type": "fragment"
    }
   },
   "outputs": [],
   "source": [
    "class GreetingClass():\n",
    "    def __init__(self, name):\n",
    "        self.name = name\n",
    "        \n",
    "    def hello(self):\n",
    "        return f\"Hello {self.name}\""
   ]
  },
  {
   "cell_type": "code",
   "execution_count": 21,
   "metadata": {
    "slideshow": {
     "slide_type": "fragment"
    }
   },
   "outputs": [
    {
     "data": {
      "text/plain": [
       "'Hello Daniel'"
      ]
     },
     "execution_count": 21,
     "metadata": {},
     "output_type": "execute_result"
    }
   ],
   "source": [
    "test_greeting = GreetingClass('Daniel')\n",
    "test_greeting.hello()"
   ]
  },
  {
   "cell_type": "markdown",
   "metadata": {
    "slideshow": {
     "slide_type": "slide"
    }
   },
   "source": [
    "Let's look behind the scenes of this class."
   ]
  },
  {
   "cell_type": "code",
   "execution_count": 22,
   "metadata": {
    "slideshow": {
     "slide_type": "fragment"
    }
   },
   "outputs": [
    {
     "data": {
      "text/plain": [
       "mappingproxy({'__module__': '__main__',\n",
       "              '__init__': <function __main__.GreetingClass.__init__(self, name)>,\n",
       "              'hello': <function __main__.GreetingClass.hello(self)>,\n",
       "              '__dict__': <attribute '__dict__' of 'GreetingClass' objects>,\n",
       "              '__weakref__': <attribute '__weakref__' of 'GreetingClass' objects>,\n",
       "              '__doc__': None})"
      ]
     },
     "execution_count": 22,
     "metadata": {},
     "output_type": "execute_result"
    }
   ],
   "source": [
    "GreetingClass.__dict__"
   ]
  },
  {
   "cell_type": "markdown",
   "metadata": {
    "slideshow": {
     "slide_type": "fragment"
    }
   },
   "source": [
    "It's got a dictionary* with the keys are methods and values are the functions themselves!\n",
    "\n",
    "\n",
    "\\* It's actually a `mapping proxy` object, which is a lightweight dictionary which doesn't support item assignment, hence we use `setattr()` below."
   ]
  },
  {
   "cell_type": "code",
   "execution_count": 23,
   "metadata": {
    "slideshow": {
     "slide_type": "slide"
    }
   },
   "outputs": [],
   "source": [
    "def logging_the_class(cls):\n",
    "    for key, func in cls.__dict__.items():\n",
    "        if key.startswith(\"__\") and key.endswith(\"__\") or not callable(func):\n",
    "            # we don't care about decorating __init__ or any private methods\n",
    "            continue\n",
    "        # below is the key line, it sets the function with setattr to the logged function\n",
    "        setattr(cls, key, logging_decorator(func))\n",
    "        print(\"Wrapped\", key)\n",
    "    return cls"
   ]
  },
  {
   "cell_type": "code",
   "execution_count": 24,
   "metadata": {
    "slideshow": {
     "slide_type": "fragment"
    }
   },
   "outputs": [
    {
     "name": "stdout",
     "output_type": "stream",
     "text": [
      "Wrapped hello\n",
      "Wrapped goodbye\n"
     ]
    }
   ],
   "source": [
    "@logging_the_class\n",
    "class GreetingClass():\n",
    "    def __init__(self, name):\n",
    "        self.name = name\n",
    "        \n",
    "    def hello(self):\n",
    "        return f\"Hello {self.name}\"\n",
    "    \n",
    "    def goodbye(self):\n",
    "        return f\"Goodbye {self.name}\""
   ]
  },
  {
   "cell_type": "code",
   "execution_count": 25,
   "metadata": {
    "slideshow": {
     "slide_type": "slide"
    }
   },
   "outputs": [],
   "source": [
    "test_greeting = GreetingClass('Daniel')"
   ]
  },
  {
   "cell_type": "code",
   "execution_count": 26,
   "metadata": {
    "slideshow": {
     "slide_type": "fragment"
    }
   },
   "outputs": [
    {
     "name": "stderr",
     "output_type": "stream",
     "text": [
      "2019-12-11 23:23:38,747 - running hello...\n"
     ]
    },
    {
     "data": {
      "text/plain": [
       "'Hello Daniel'"
      ]
     },
     "execution_count": 26,
     "metadata": {},
     "output_type": "execute_result"
    }
   ],
   "source": [
    "test_greeting.hello()"
   ]
  },
  {
   "cell_type": "code",
   "execution_count": 27,
   "metadata": {
    "slideshow": {
     "slide_type": "fragment"
    }
   },
   "outputs": [
    {
     "name": "stderr",
     "output_type": "stream",
     "text": [
      "2019-12-11 23:23:38,757 - running goodbye...\n"
     ]
    },
    {
     "data": {
      "text/plain": [
       "'Goodbye Daniel'"
      ]
     },
     "execution_count": 27,
     "metadata": {},
     "output_type": "execute_result"
    }
   ],
   "source": [
    "test_greeting.goodbye()"
   ]
  },
  {
   "cell_type": "markdown",
   "metadata": {
    "slideshow": {
     "slide_type": "fragment"
    }
   },
   "source": [
    "Further logging is out of the scope of this talk, but you could do things like dump your logs to a file, or define a decorator which is itself a class (and therefore stores _state_ ) which adds the number of times the function is called to the logging stream."
   ]
  },
  {
   "cell_type": "markdown",
   "metadata": {
    "slideshow": {
     "slide_type": "slide"
    }
   },
   "source": [
    "#### Decorating a method"
   ]
  },
  {
   "cell_type": "markdown",
   "metadata": {
    "slideshow": {
     "slide_type": "fragment"
    }
   },
   "source": [
    "This is final decorator example and it's a bit more complex. <br>\n",
    "We're decorating a single method.\n",
    "\n",
    "The main issue we have, how do we access `.self`?"
   ]
  },
  {
   "cell_type": "markdown",
   "metadata": {
    "slideshow": {
     "slide_type": "fragment"
    }
   },
   "source": [
    "First let's see what we do with the `loggingdecorator()` to make it work for a single method."
   ]
  },
  {
   "cell_type": "code",
   "execution_count": 28,
   "metadata": {
    "slideshow": {
     "slide_type": "slide"
    }
   },
   "outputs": [],
   "source": [
    "def logging_decorator(func):\n",
    "    \"\"\"This decorator logs functions.\n",
    "    \"\"\"\n",
    "    @functools.wraps(func)\n",
    "    def logged_function(*args, **kwargs):\n",
    "        \"\"\"This function is the logged function.\n",
    "        All it does is add the name of the function to the logging stream.\n",
    "        \"\"\"\n",
    "        self = args[0]\n",
    "        logger.info(f'running {func.__name__}...')\n",
    "        return func(*args, **kwargs)\n",
    "    return logged_function"
   ]
  },
  {
   "cell_type": "code",
   "execution_count": 29,
   "metadata": {
    "slideshow": {
     "slide_type": "fragment"
    }
   },
   "outputs": [],
   "source": [
    "def logging_decorator(func):\n",
    "    \"\"\"This decorator logs functions.\n",
    "    \"\"\"\n",
    "    @functools.wraps(func) # optional but recommended way of preserving func name and doc string.\n",
    "    def logged_function(*args, **kwargs):\n",
    "        \"\"\"This function is the logged function.\n",
    "        All it does is add the name of the function to the logging stream.\n",
    "        \"\"\"\n",
    "        self = args[0]\n",
    "        logger.info(f'running {func.__name__}...')\n",
    "        return func(*args, **kwargs)\n",
    "    return logged_function"
   ]
  },
  {
   "cell_type": "code",
   "execution_count": 30,
   "metadata": {
    "slideshow": {
     "slide_type": "fragment"
    }
   },
   "outputs": [],
   "source": [
    "class NewGreetingClass():\n",
    "    def __init__(self, name):\n",
    "        self.name = name\n",
    "        \n",
    "    def hello(self):\n",
    "        return f\"Hello {self.name}\"\n",
    "    \n",
    "    @logging_decorator\n",
    "    def goodbye(self):\n",
    "        return f\"Goodbye {self.name}\""
   ]
  },
  {
   "cell_type": "code",
   "execution_count": 31,
   "metadata": {
    "slideshow": {
     "slide_type": "slide"
    }
   },
   "outputs": [],
   "source": [
    "new_greeting = NewGreetingClass('Dan')"
   ]
  },
  {
   "cell_type": "code",
   "execution_count": 32,
   "metadata": {
    "slideshow": {
     "slide_type": "fragment"
    }
   },
   "outputs": [
    {
     "data": {
      "text/plain": [
       "'Hello Dan'"
      ]
     },
     "execution_count": 32,
     "metadata": {},
     "output_type": "execute_result"
    }
   ],
   "source": [
    "# no logging\n",
    "new_greeting.hello()"
   ]
  },
  {
   "cell_type": "code",
   "execution_count": 33,
   "metadata": {
    "slideshow": {
     "slide_type": "fragment"
    }
   },
   "outputs": [
    {
     "name": "stderr",
     "output_type": "stream",
     "text": [
      "2019-12-11 23:23:38,814 - running goodbye...\n"
     ]
    },
    {
     "data": {
      "text/plain": [
       "'Goodbye Dan'"
      ]
     },
     "execution_count": 33,
     "metadata": {},
     "output_type": "execute_result"
    }
   ],
   "source": [
    "# logged\n",
    "new_greeting.goodbye()"
   ]
  },
  {
   "cell_type": "markdown",
   "metadata": {
    "slideshow": {
     "slide_type": "slide"
    }
   },
   "source": [
    "## Dataclasses\n",
    "\n",
    "Dataclasses are a convenient way to create classes without nearly as much boilerplate code."
   ]
  },
  {
   "cell_type": "markdown",
   "metadata": {
    "slideshow": {
     "slide_type": "fragment"
    }
   },
   "source": [
    "### Why?"
   ]
  },
  {
   "cell_type": "code",
   "execution_count": 2,
   "metadata": {
    "slideshow": {
     "slide_type": "fragment"
    }
   },
   "outputs": [],
   "source": [
    "from dataclasses import dataclass"
   ]
  },
  {
   "cell_type": "code",
   "execution_count": 3,
   "metadata": {
    "slideshow": {
     "slide_type": "fragment"
    }
   },
   "outputs": [],
   "source": [
    "class NewGreetingClass():\n",
    "    def __init__(self, name):\n",
    "        self.name: str = name\n",
    "        \n",
    "    def hello(self):\n",
    "        return f\"Hello {self.name}\"\n",
    "    \n",
    "    def goodbye(self):\n",
    "        return f\"Goodbye {self.name}\""
   ]
  },
  {
   "cell_type": "markdown",
   "metadata": {
    "slideshow": {
     "slide_type": "fragment"
    }
   },
   "source": [
    "To define the simple class above, we have had to type `name` three times. <br>\n",
    "There has to be a better way..."
   ]
  },
  {
   "cell_type": "code",
   "execution_count": 4,
   "metadata": {
    "slideshow": {
     "slide_type": "slide"
    }
   },
   "outputs": [],
   "source": [
    "@dataclass\n",
    "class DCNewGreetingClass:\n",
    "    name: str\n",
    "    \n",
    "    def hello(self):\n",
    "        return f\"Hello {self.name}\"\n",
    "\n",
    "    def goodbye(self):\n",
    "        return f\"Goodbye {self.name}\""
   ]
  },
  {
   "cell_type": "markdown",
   "metadata": {
    "slideshow": {
     "slide_type": "fragment"
    }
   },
   "source": [
    "This pattern allows us to define a class and have its '__init__' function generated for us. <br>\n",
    "This can be especially useful for large classes with many paramaters."
   ]
  },
  {
   "cell_type": "markdown",
   "metadata": {
    "slideshow": {
     "slide_type": "fragment"
    }
   },
   "source": [
    "However there is downside... <br>\n",
    "...as of Python 3.7 Dataclasses do not support properties.\n",
    "\n",
    "But we can get round this with "
   ]
  },
  {
   "cell_type": "code",
   "execution_count": 5,
   "metadata": {
    "slideshow": {
     "slide_type": "slide"
    }
   },
   "outputs": [],
   "source": [
    "@dataclass\n",
    "class NewGreetingClassStructure:\n",
    "    _name: str\n",
    "    \n",
    "    @property\n",
    "    def name(self):\n",
    "        print('Getting name...')\n",
    "        return f\"{self._name}\"\n",
    "    \n",
    "    @name.setter\n",
    "    def name(self, new_name):\n",
    "        print('Setting name...')\n",
    "        self._name = new_name\n"
   ]
  },
  {
   "cell_type": "code",
   "execution_count": 6,
   "metadata": {
    "slideshow": {
     "slide_type": "fragment"
    }
   },
   "outputs": [],
   "source": [
    "test = NewGreetingClassStructure('Daniel')"
   ]
  },
  {
   "cell_type": "code",
   "execution_count": 7,
   "metadata": {
    "slideshow": {
     "slide_type": "fragment"
    }
   },
   "outputs": [
    {
     "name": "stdout",
     "output_type": "stream",
     "text": [
      "Setting name...\n"
     ]
    }
   ],
   "source": [
    "test.name = 'Dan'"
   ]
  },
  {
   "cell_type": "markdown",
   "metadata": {
    "pycharm": {
     "name": "#%% md\n"
    },
    "slideshow": {
     "slide_type": "slide"
    }
   },
   "source": [
    "### Immutable Dataclasses\n"
   ]
  },
  {
   "cell_type": "code",
   "execution_count": 8,
   "metadata": {
    "pycharm": {
     "name": "#%%\n"
    },
    "slideshow": {
     "slide_type": "fragment"
    }
   },
   "outputs": [],
   "source": [
    "@dataclass(frozen=True)\n",
    "class ImmutableGreetingClass():\n",
    "    name: str\n",
    "    \n",
    "    def hello(self):\n",
    "        return f\"Hello {self.name}\"\n",
    "\n",
    "    def goodbye(self):\n",
    "        return f\"Goodbye {self.name}\""
   ]
  },
  {
   "cell_type": "code",
   "execution_count": 9,
   "metadata": {
    "slideshow": {
     "slide_type": "fragment"
    }
   },
   "outputs": [],
   "source": [
    "immutable_test = ImmutableGreetingClass(name='Dan')"
   ]
  },
  {
   "cell_type": "code",
   "execution_count": 10,
   "metadata": {
    "slideshow": {
     "slide_type": "fragment"
    }
   },
   "outputs": [
    {
     "ename": "FrozenInstanceError",
     "evalue": "cannot assign to field 'name'",
     "output_type": "error",
     "traceback": [
      "\u001b[0;31m---------------------------------------------------------------------------\u001b[0m",
      "\u001b[0;31mFrozenInstanceError\u001b[0m                       Traceback (most recent call last)",
      "\u001b[0;32m<ipython-input-10-89ee780836ec>\u001b[0m in \u001b[0;36m<module>\u001b[0;34m\u001b[0m\n\u001b[0;32m----> 1\u001b[0;31m \u001b[0mimmutable_test\u001b[0m\u001b[0;34m.\u001b[0m\u001b[0mname\u001b[0m \u001b[0;34m=\u001b[0m \u001b[0;34m'Daniel'\u001b[0m\u001b[0;34m\u001b[0m\u001b[0;34m\u001b[0m\u001b[0m\n\u001b[0m",
      "\u001b[0;32m<string>\u001b[0m in \u001b[0;36m__setattr__\u001b[0;34m(self, name, value)\u001b[0m\n",
      "\u001b[0;31mFrozenInstanceError\u001b[0m: cannot assign to field 'name'"
     ]
    }
   ],
   "source": [
    "immutable_test.name = 'Daniel'"
   ]
  },
  {
   "cell_type": "markdown",
   "metadata": {
    "slideshow": {
     "slide_type": "fragment"
    }
   },
   "source": [
    "Immutability in dataclasses is that simple."
   ]
  },
  {
   "cell_type": "markdown",
   "metadata": {
    "slideshow": {
     "slide_type": "fragment"
    }
   },
   "source": [
    "As your class gets bigger, you may want to have a dataclass that you define all parameters in. <br>\n",
    "Then you can simply inherit from this class to define your methods."
   ]
  },
  {
   "cell_type": "markdown",
   "metadata": {
    "slideshow": {
     "slide_type": "slide"
    }
   },
   "source": [
    "## The advantages of IDEs"
   ]
  },
  {
   "cell_type": "markdown",
   "metadata": {
    "slideshow": {
     "slide_type": "fragment"
    }
   },
   "source": [
    "Working with these features in a notebook is possible, but let's close with a look at some of the advantages of an IDE such as Pycharm.\n",
    "\n",
    "<img  src=\"images/PyCharmLogo.jpg\">"
   ]
  },
  {
   "cell_type": "markdown",
   "metadata": {
    "slideshow": {
     "slide_type": "slide"
    }
   },
   "source": [
    "### Sources\n",
    "1. Advanced Decorators\n",
    "    * http://archive.oreilly.com/oreillyschool/courses/Python4/Python4-07.html#class_decorators\n",
    "1. Logging \n",
    "    * https://realpython.com/python-logging/"
   ]
  }
 ],
 "metadata": {
  "kernelspec": {
   "display_name": "Python [conda env:untitled]",
   "language": "python",
   "name": "conda-env-untitled-py"
  },
  "language_info": {
   "codemirror_mode": {
    "name": "ipython",
    "version": 3
   },
   "file_extension": ".py",
   "mimetype": "text/x-python",
   "name": "python",
   "nbconvert_exporter": "python",
   "pygments_lexer": "ipython3",
   "version": "3.7.4"
  },
  "pycharm": {
   "stem_cell": {
    "cell_type": "raw",
    "metadata": {
     "collapsed": false
    },
    "source": []
   }
  },
  "toc": {
   "base_numbering": 1,
   "nav_menu": {},
   "number_sections": true,
   "sideBar": true,
   "skip_h1_title": false,
   "title_cell": "Table of Contents",
   "title_sidebar": "Contents",
   "toc_cell": true,
   "toc_position": {
    "height": "calc(100% - 180px)",
    "left": "10px",
    "top": "150px",
    "width": "298px"
   },
   "toc_section_display": true,
   "toc_window_display": true
  }
 },
 "nbformat": 4,
 "nbformat_minor": 2
}
